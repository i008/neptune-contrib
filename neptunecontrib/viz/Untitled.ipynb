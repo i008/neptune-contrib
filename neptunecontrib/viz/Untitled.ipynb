{
 "cells": [
  {
   "cell_type": "code",
   "execution_count": 4,
   "metadata": {},
   "outputs": [
    {
     "data": {
      "application/vnd.vegalite.v2+json": {
       "$schema": "https://vega.github.io/schema/vega-lite/v2.6.0.json",
       "config": {
        "view": {
         "height": 300,
         "width": 400
        }
       },
       "data": {
        "name": "data-05673c603f9d52f88a11dbfed1e0486c"
       },
       "datasets": {
        "data-05673c603f9d52f88a11dbfed1e0486c": [
         {
          "index": 0,
          "species": "setosa",
          "value": 1.4,
          "variable": "petalLength"
         },
         {
          "index": 1,
          "species": "setosa",
          "value": 1.4,
          "variable": "petalLength"
         },
         {
          "index": 2,
          "species": "setosa",
          "value": 1.3,
          "variable": "petalLength"
         },
         {
          "index": 3,
          "species": "setosa",
          "value": 1.5,
          "variable": "petalLength"
         },
         {
          "index": 4,
          "species": "setosa",
          "value": 1.4,
          "variable": "petalLength"
         },
         {
          "index": 5,
          "species": "setosa",
          "value": 1.7000000000000002,
          "variable": "petalLength"
         },
         {
          "index": 6,
          "species": "setosa",
          "value": 1.4,
          "variable": "petalLength"
         },
         {
          "index": 7,
          "species": "setosa",
          "value": 1.5,
          "variable": "petalLength"
         },
         {
          "index": 8,
          "species": "setosa",
          "value": 1.4,
          "variable": "petalLength"
         },
         {
          "index": 9,
          "species": "setosa",
          "value": 1.5,
          "variable": "petalLength"
         },
         {
          "index": 10,
          "species": "setosa",
          "value": 1.5,
          "variable": "petalLength"
         },
         {
          "index": 11,
          "species": "setosa",
          "value": 1.6,
          "variable": "petalLength"
         },
         {
          "index": 12,
          "species": "setosa",
          "value": 1.4,
          "variable": "petalLength"
         },
         {
          "index": 13,
          "species": "setosa",
          "value": 1.1,
          "variable": "petalLength"
         },
         {
          "index": 14,
          "species": "setosa",
          "value": 1.2,
          "variable": "petalLength"
         },
         {
          "index": 15,
          "species": "setosa",
          "value": 1.5,
          "variable": "petalLength"
         },
         {
          "index": 16,
          "species": "setosa",
          "value": 1.3,
          "variable": "petalLength"
         },
         {
          "index": 17,
          "species": "setosa",
          "value": 1.4,
          "variable": "petalLength"
         },
         {
          "index": 18,
          "species": "setosa",
          "value": 1.7000000000000002,
          "variable": "petalLength"
         },
         {
          "index": 19,
          "species": "setosa",
          "value": 1.5,
          "variable": "petalLength"
         },
         {
          "index": 20,
          "species": "setosa",
          "value": 1.7000000000000002,
          "variable": "petalLength"
         },
         {
          "index": 21,
          "species": "setosa",
          "value": 1.5,
          "variable": "petalLength"
         },
         {
          "index": 22,
          "species": "setosa",
          "value": 1,
          "variable": "petalLength"
         },
         {
          "index": 23,
          "species": "setosa",
          "value": 1.7000000000000002,
          "variable": "petalLength"
         },
         {
          "index": 24,
          "species": "setosa",
          "value": 1.9,
          "variable": "petalLength"
         },
         {
          "index": 25,
          "species": "setosa",
          "value": 1.6,
          "variable": "petalLength"
         },
         {
          "index": 26,
          "species": "setosa",
          "value": 1.6,
          "variable": "petalLength"
         },
         {
          "index": 27,
          "species": "setosa",
          "value": 1.5,
          "variable": "petalLength"
         },
         {
          "index": 28,
          "species": "setosa",
          "value": 1.4,
          "variable": "petalLength"
         },
         {
          "index": 29,
          "species": "setosa",
          "value": 1.6,
          "variable": "petalLength"
         },
         {
          "index": 30,
          "species": "setosa",
          "value": 1.6,
          "variable": "petalLength"
         },
         {
          "index": 31,
          "species": "setosa",
          "value": 1.5,
          "variable": "petalLength"
         },
         {
          "index": 32,
          "species": "setosa",
          "value": 1.5,
          "variable": "petalLength"
         },
         {
          "index": 33,
          "species": "setosa",
          "value": 1.4,
          "variable": "petalLength"
         },
         {
          "index": 34,
          "species": "setosa",
          "value": 1.5,
          "variable": "petalLength"
         },
         {
          "index": 35,
          "species": "setosa",
          "value": 1.2,
          "variable": "petalLength"
         },
         {
          "index": 36,
          "species": "setosa",
          "value": 1.3,
          "variable": "petalLength"
         },
         {
          "index": 37,
          "species": "setosa",
          "value": 1.4,
          "variable": "petalLength"
         },
         {
          "index": 38,
          "species": "setosa",
          "value": 1.3,
          "variable": "petalLength"
         },
         {
          "index": 39,
          "species": "setosa",
          "value": 1.5,
          "variable": "petalLength"
         },
         {
          "index": 40,
          "species": "setosa",
          "value": 1.3,
          "variable": "petalLength"
         },
         {
          "index": 41,
          "species": "setosa",
          "value": 1.3,
          "variable": "petalLength"
         },
         {
          "index": 42,
          "species": "setosa",
          "value": 1.3,
          "variable": "petalLength"
         },
         {
          "index": 43,
          "species": "setosa",
          "value": 1.6,
          "variable": "petalLength"
         },
         {
          "index": 44,
          "species": "setosa",
          "value": 1.9,
          "variable": "petalLength"
         },
         {
          "index": 45,
          "species": "setosa",
          "value": 1.4,
          "variable": "petalLength"
         },
         {
          "index": 46,
          "species": "setosa",
          "value": 1.6,
          "variable": "petalLength"
         },
         {
          "index": 47,
          "species": "setosa",
          "value": 1.4,
          "variable": "petalLength"
         },
         {
          "index": 48,
          "species": "setosa",
          "value": 1.5,
          "variable": "petalLength"
         },
         {
          "index": 49,
          "species": "setosa",
          "value": 1.4,
          "variable": "petalLength"
         },
         {
          "index": 50,
          "species": "versicolor",
          "value": 4.7,
          "variable": "petalLength"
         },
         {
          "index": 51,
          "species": "versicolor",
          "value": 4.5,
          "variable": "petalLength"
         },
         {
          "index": 52,
          "species": "versicolor",
          "value": 4.9,
          "variable": "petalLength"
         },
         {
          "index": 53,
          "species": "versicolor",
          "value": 4,
          "variable": "petalLength"
         },
         {
          "index": 54,
          "species": "versicolor",
          "value": 4.6,
          "variable": "petalLength"
         },
         {
          "index": 55,
          "species": "versicolor",
          "value": 4.5,
          "variable": "petalLength"
         },
         {
          "index": 56,
          "species": "versicolor",
          "value": 4.7,
          "variable": "petalLength"
         },
         {
          "index": 57,
          "species": "versicolor",
          "value": 3.3,
          "variable": "petalLength"
         },
         {
          "index": 58,
          "species": "versicolor",
          "value": 4.6,
          "variable": "petalLength"
         },
         {
          "index": 59,
          "species": "versicolor",
          "value": 3.9,
          "variable": "petalLength"
         },
         {
          "index": 60,
          "species": "versicolor",
          "value": 3.5,
          "variable": "petalLength"
         },
         {
          "index": 61,
          "species": "versicolor",
          "value": 4.2,
          "variable": "petalLength"
         },
         {
          "index": 62,
          "species": "versicolor",
          "value": 4,
          "variable": "petalLength"
         },
         {
          "index": 63,
          "species": "versicolor",
          "value": 4.7,
          "variable": "petalLength"
         },
         {
          "index": 64,
          "species": "versicolor",
          "value": 3.6,
          "variable": "petalLength"
         },
         {
          "index": 65,
          "species": "versicolor",
          "value": 4.4,
          "variable": "petalLength"
         },
         {
          "index": 66,
          "species": "versicolor",
          "value": 4.5,
          "variable": "petalLength"
         },
         {
          "index": 67,
          "species": "versicolor",
          "value": 4.1,
          "variable": "petalLength"
         },
         {
          "index": 68,
          "species": "versicolor",
          "value": 4.5,
          "variable": "petalLength"
         },
         {
          "index": 69,
          "species": "versicolor",
          "value": 3.9,
          "variable": "petalLength"
         },
         {
          "index": 70,
          "species": "versicolor",
          "value": 4.8,
          "variable": "petalLength"
         },
         {
          "index": 71,
          "species": "versicolor",
          "value": 4,
          "variable": "petalLength"
         },
         {
          "index": 72,
          "species": "versicolor",
          "value": 4.9,
          "variable": "petalLength"
         },
         {
          "index": 73,
          "species": "versicolor",
          "value": 4.7,
          "variable": "petalLength"
         },
         {
          "index": 74,
          "species": "versicolor",
          "value": 4.3,
          "variable": "petalLength"
         },
         {
          "index": 75,
          "species": "versicolor",
          "value": 4.4,
          "variable": "petalLength"
         },
         {
          "index": 76,
          "species": "versicolor",
          "value": 4.8,
          "variable": "petalLength"
         },
         {
          "index": 77,
          "species": "versicolor",
          "value": 5,
          "variable": "petalLength"
         },
         {
          "index": 78,
          "species": "versicolor",
          "value": 4.5,
          "variable": "petalLength"
         },
         {
          "index": 79,
          "species": "versicolor",
          "value": 3.5,
          "variable": "petalLength"
         },
         {
          "index": 80,
          "species": "versicolor",
          "value": 3.8,
          "variable": "petalLength"
         },
         {
          "index": 81,
          "species": "versicolor",
          "value": 3.7,
          "variable": "petalLength"
         },
         {
          "index": 82,
          "species": "versicolor",
          "value": 3.9,
          "variable": "petalLength"
         },
         {
          "index": 83,
          "species": "versicolor",
          "value": 5.1,
          "variable": "petalLength"
         },
         {
          "index": 84,
          "species": "versicolor",
          "value": 4.5,
          "variable": "petalLength"
         },
         {
          "index": 85,
          "species": "versicolor",
          "value": 4.5,
          "variable": "petalLength"
         },
         {
          "index": 86,
          "species": "versicolor",
          "value": 4.7,
          "variable": "petalLength"
         },
         {
          "index": 87,
          "species": "versicolor",
          "value": 4.4,
          "variable": "petalLength"
         },
         {
          "index": 88,
          "species": "versicolor",
          "value": 4.1,
          "variable": "petalLength"
         },
         {
          "index": 89,
          "species": "versicolor",
          "value": 4,
          "variable": "petalLength"
         },
         {
          "index": 90,
          "species": "versicolor",
          "value": 4.4,
          "variable": "petalLength"
         },
         {
          "index": 91,
          "species": "versicolor",
          "value": 4.6,
          "variable": "petalLength"
         },
         {
          "index": 92,
          "species": "versicolor",
          "value": 4,
          "variable": "petalLength"
         },
         {
          "index": 93,
          "species": "versicolor",
          "value": 3.3,
          "variable": "petalLength"
         },
         {
          "index": 94,
          "species": "versicolor",
          "value": 4.2,
          "variable": "petalLength"
         },
         {
          "index": 95,
          "species": "versicolor",
          "value": 4.2,
          "variable": "petalLength"
         },
         {
          "index": 96,
          "species": "versicolor",
          "value": 4.2,
          "variable": "petalLength"
         },
         {
          "index": 97,
          "species": "versicolor",
          "value": 4.3,
          "variable": "petalLength"
         },
         {
          "index": 98,
          "species": "versicolor",
          "value": 3,
          "variable": "petalLength"
         },
         {
          "index": 99,
          "species": "versicolor",
          "value": 4.1,
          "variable": "petalLength"
         },
         {
          "index": 100,
          "species": "virginica",
          "value": 6,
          "variable": "petalLength"
         },
         {
          "index": 101,
          "species": "virginica",
          "value": 5.1,
          "variable": "petalLength"
         },
         {
          "index": 102,
          "species": "virginica",
          "value": 5.9,
          "variable": "petalLength"
         },
         {
          "index": 103,
          "species": "virginica",
          "value": 5.6,
          "variable": "petalLength"
         },
         {
          "index": 104,
          "species": "virginica",
          "value": 5.8,
          "variable": "petalLength"
         },
         {
          "index": 105,
          "species": "virginica",
          "value": 6.6,
          "variable": "petalLength"
         },
         {
          "index": 106,
          "species": "virginica",
          "value": 4.5,
          "variable": "petalLength"
         },
         {
          "index": 107,
          "species": "virginica",
          "value": 6.3,
          "variable": "petalLength"
         },
         {
          "index": 108,
          "species": "virginica",
          "value": 5.8,
          "variable": "petalLength"
         },
         {
          "index": 109,
          "species": "virginica",
          "value": 6.1,
          "variable": "petalLength"
         },
         {
          "index": 110,
          "species": "virginica",
          "value": 5.1,
          "variable": "petalLength"
         },
         {
          "index": 111,
          "species": "virginica",
          "value": 5.3,
          "variable": "petalLength"
         },
         {
          "index": 112,
          "species": "virginica",
          "value": 5.5,
          "variable": "petalLength"
         },
         {
          "index": 113,
          "species": "virginica",
          "value": 5,
          "variable": "petalLength"
         },
         {
          "index": 114,
          "species": "virginica",
          "value": 5.1,
          "variable": "petalLength"
         },
         {
          "index": 115,
          "species": "virginica",
          "value": 5.3,
          "variable": "petalLength"
         },
         {
          "index": 116,
          "species": "virginica",
          "value": 5.5,
          "variable": "petalLength"
         },
         {
          "index": 117,
          "species": "virginica",
          "value": 6.7,
          "variable": "petalLength"
         },
         {
          "index": 118,
          "species": "virginica",
          "value": 6.9,
          "variable": "petalLength"
         },
         {
          "index": 119,
          "species": "virginica",
          "value": 5,
          "variable": "petalLength"
         },
         {
          "index": 120,
          "species": "virginica",
          "value": 5.7,
          "variable": "petalLength"
         },
         {
          "index": 121,
          "species": "virginica",
          "value": 4.9,
          "variable": "petalLength"
         },
         {
          "index": 122,
          "species": "virginica",
          "value": 6.7,
          "variable": "petalLength"
         },
         {
          "index": 123,
          "species": "virginica",
          "value": 4.9,
          "variable": "petalLength"
         },
         {
          "index": 124,
          "species": "virginica",
          "value": 5.7,
          "variable": "petalLength"
         },
         {
          "index": 125,
          "species": "virginica",
          "value": 6,
          "variable": "petalLength"
         },
         {
          "index": 126,
          "species": "virginica",
          "value": 4.8,
          "variable": "petalLength"
         },
         {
          "index": 127,
          "species": "virginica",
          "value": 4.9,
          "variable": "petalLength"
         },
         {
          "index": 128,
          "species": "virginica",
          "value": 5.6,
          "variable": "petalLength"
         },
         {
          "index": 129,
          "species": "virginica",
          "value": 5.8,
          "variable": "petalLength"
         },
         {
          "index": 130,
          "species": "virginica",
          "value": 6.1,
          "variable": "petalLength"
         },
         {
          "index": 131,
          "species": "virginica",
          "value": 6.4,
          "variable": "petalLength"
         },
         {
          "index": 132,
          "species": "virginica",
          "value": 5.6,
          "variable": "petalLength"
         },
         {
          "index": 133,
          "species": "virginica",
          "value": 5.1,
          "variable": "petalLength"
         },
         {
          "index": 134,
          "species": "virginica",
          "value": 5.6,
          "variable": "petalLength"
         },
         {
          "index": 135,
          "species": "virginica",
          "value": 6.1,
          "variable": "petalLength"
         },
         {
          "index": 136,
          "species": "virginica",
          "value": 5.6,
          "variable": "petalLength"
         },
         {
          "index": 137,
          "species": "virginica",
          "value": 5.5,
          "variable": "petalLength"
         },
         {
          "index": 138,
          "species": "virginica",
          "value": 4.8,
          "variable": "petalLength"
         },
         {
          "index": 139,
          "species": "virginica",
          "value": 5.4,
          "variable": "petalLength"
         },
         {
          "index": 140,
          "species": "virginica",
          "value": 5.6,
          "variable": "petalLength"
         },
         {
          "index": 141,
          "species": "virginica",
          "value": 5.1,
          "variable": "petalLength"
         },
         {
          "index": 142,
          "species": "virginica",
          "value": 5.1,
          "variable": "petalLength"
         },
         {
          "index": 143,
          "species": "virginica",
          "value": 5.9,
          "variable": "petalLength"
         },
         {
          "index": 144,
          "species": "virginica",
          "value": 5.7,
          "variable": "petalLength"
         },
         {
          "index": 145,
          "species": "virginica",
          "value": 5.2,
          "variable": "petalLength"
         },
         {
          "index": 146,
          "species": "virginica",
          "value": 5,
          "variable": "petalLength"
         },
         {
          "index": 147,
          "species": "virginica",
          "value": 5.2,
          "variable": "petalLength"
         },
         {
          "index": 148,
          "species": "virginica",
          "value": 5.4,
          "variable": "petalLength"
         },
         {
          "index": 149,
          "species": "virginica",
          "value": 5.1,
          "variable": "petalLength"
         },
         {
          "index": 0,
          "species": "setosa",
          "value": 0.2,
          "variable": "petalWidth"
         },
         {
          "index": 1,
          "species": "setosa",
          "value": 0.2,
          "variable": "petalWidth"
         },
         {
          "index": 2,
          "species": "setosa",
          "value": 0.2,
          "variable": "petalWidth"
         },
         {
          "index": 3,
          "species": "setosa",
          "value": 0.2,
          "variable": "petalWidth"
         },
         {
          "index": 4,
          "species": "setosa",
          "value": 0.2,
          "variable": "petalWidth"
         },
         {
          "index": 5,
          "species": "setosa",
          "value": 0.4,
          "variable": "petalWidth"
         },
         {
          "index": 6,
          "species": "setosa",
          "value": 0.30000000000000004,
          "variable": "petalWidth"
         },
         {
          "index": 7,
          "species": "setosa",
          "value": 0.2,
          "variable": "petalWidth"
         },
         {
          "index": 8,
          "species": "setosa",
          "value": 0.2,
          "variable": "petalWidth"
         },
         {
          "index": 9,
          "species": "setosa",
          "value": 0.1,
          "variable": "petalWidth"
         },
         {
          "index": 10,
          "species": "setosa",
          "value": 0.2,
          "variable": "petalWidth"
         },
         {
          "index": 11,
          "species": "setosa",
          "value": 0.2,
          "variable": "petalWidth"
         },
         {
          "index": 12,
          "species": "setosa",
          "value": 0.1,
          "variable": "petalWidth"
         },
         {
          "index": 13,
          "species": "setosa",
          "value": 0.1,
          "variable": "petalWidth"
         },
         {
          "index": 14,
          "species": "setosa",
          "value": 0.2,
          "variable": "petalWidth"
         },
         {
          "index": 15,
          "species": "setosa",
          "value": 0.4,
          "variable": "petalWidth"
         },
         {
          "index": 16,
          "species": "setosa",
          "value": 0.4,
          "variable": "petalWidth"
         },
         {
          "index": 17,
          "species": "setosa",
          "value": 0.30000000000000004,
          "variable": "petalWidth"
         },
         {
          "index": 18,
          "species": "setosa",
          "value": 0.30000000000000004,
          "variable": "petalWidth"
         },
         {
          "index": 19,
          "species": "setosa",
          "value": 0.30000000000000004,
          "variable": "petalWidth"
         },
         {
          "index": 20,
          "species": "setosa",
          "value": 0.2,
          "variable": "petalWidth"
         },
         {
          "index": 21,
          "species": "setosa",
          "value": 0.4,
          "variable": "petalWidth"
         },
         {
          "index": 22,
          "species": "setosa",
          "value": 0.2,
          "variable": "petalWidth"
         },
         {
          "index": 23,
          "species": "setosa",
          "value": 0.5,
          "variable": "petalWidth"
         },
         {
          "index": 24,
          "species": "setosa",
          "value": 0.2,
          "variable": "petalWidth"
         },
         {
          "index": 25,
          "species": "setosa",
          "value": 0.2,
          "variable": "petalWidth"
         },
         {
          "index": 26,
          "species": "setosa",
          "value": 0.4,
          "variable": "petalWidth"
         },
         {
          "index": 27,
          "species": "setosa",
          "value": 0.2,
          "variable": "petalWidth"
         },
         {
          "index": 28,
          "species": "setosa",
          "value": 0.2,
          "variable": "petalWidth"
         },
         {
          "index": 29,
          "species": "setosa",
          "value": 0.2,
          "variable": "petalWidth"
         },
         {
          "index": 30,
          "species": "setosa",
          "value": 0.2,
          "variable": "petalWidth"
         },
         {
          "index": 31,
          "species": "setosa",
          "value": 0.4,
          "variable": "petalWidth"
         },
         {
          "index": 32,
          "species": "setosa",
          "value": 0.1,
          "variable": "petalWidth"
         },
         {
          "index": 33,
          "species": "setosa",
          "value": 0.2,
          "variable": "petalWidth"
         },
         {
          "index": 34,
          "species": "setosa",
          "value": 0.2,
          "variable": "petalWidth"
         },
         {
          "index": 35,
          "species": "setosa",
          "value": 0.2,
          "variable": "petalWidth"
         },
         {
          "index": 36,
          "species": "setosa",
          "value": 0.2,
          "variable": "petalWidth"
         },
         {
          "index": 37,
          "species": "setosa",
          "value": 0.1,
          "variable": "petalWidth"
         },
         {
          "index": 38,
          "species": "setosa",
          "value": 0.2,
          "variable": "petalWidth"
         },
         {
          "index": 39,
          "species": "setosa",
          "value": 0.2,
          "variable": "petalWidth"
         },
         {
          "index": 40,
          "species": "setosa",
          "value": 0.30000000000000004,
          "variable": "petalWidth"
         },
         {
          "index": 41,
          "species": "setosa",
          "value": 0.30000000000000004,
          "variable": "petalWidth"
         },
         {
          "index": 42,
          "species": "setosa",
          "value": 0.2,
          "variable": "petalWidth"
         },
         {
          "index": 43,
          "species": "setosa",
          "value": 0.6000000000000001,
          "variable": "petalWidth"
         },
         {
          "index": 44,
          "species": "setosa",
          "value": 0.4,
          "variable": "petalWidth"
         },
         {
          "index": 45,
          "species": "setosa",
          "value": 0.30000000000000004,
          "variable": "petalWidth"
         },
         {
          "index": 46,
          "species": "setosa",
          "value": 0.2,
          "variable": "petalWidth"
         },
         {
          "index": 47,
          "species": "setosa",
          "value": 0.2,
          "variable": "petalWidth"
         },
         {
          "index": 48,
          "species": "setosa",
          "value": 0.2,
          "variable": "petalWidth"
         },
         {
          "index": 49,
          "species": "setosa",
          "value": 0.2,
          "variable": "petalWidth"
         },
         {
          "index": 50,
          "species": "versicolor",
          "value": 1.4,
          "variable": "petalWidth"
         },
         {
          "index": 51,
          "species": "versicolor",
          "value": 1.5,
          "variable": "petalWidth"
         },
         {
          "index": 52,
          "species": "versicolor",
          "value": 1.5,
          "variable": "petalWidth"
         },
         {
          "index": 53,
          "species": "versicolor",
          "value": 1.3,
          "variable": "petalWidth"
         },
         {
          "index": 54,
          "species": "versicolor",
          "value": 1.5,
          "variable": "petalWidth"
         },
         {
          "index": 55,
          "species": "versicolor",
          "value": 1.3,
          "variable": "petalWidth"
         },
         {
          "index": 56,
          "species": "versicolor",
          "value": 1.6,
          "variable": "petalWidth"
         },
         {
          "index": 57,
          "species": "versicolor",
          "value": 1,
          "variable": "petalWidth"
         },
         {
          "index": 58,
          "species": "versicolor",
          "value": 1.3,
          "variable": "petalWidth"
         },
         {
          "index": 59,
          "species": "versicolor",
          "value": 1.4,
          "variable": "petalWidth"
         },
         {
          "index": 60,
          "species": "versicolor",
          "value": 1,
          "variable": "petalWidth"
         },
         {
          "index": 61,
          "species": "versicolor",
          "value": 1.5,
          "variable": "petalWidth"
         },
         {
          "index": 62,
          "species": "versicolor",
          "value": 1,
          "variable": "petalWidth"
         },
         {
          "index": 63,
          "species": "versicolor",
          "value": 1.4,
          "variable": "petalWidth"
         },
         {
          "index": 64,
          "species": "versicolor",
          "value": 1.3,
          "variable": "petalWidth"
         },
         {
          "index": 65,
          "species": "versicolor",
          "value": 1.4,
          "variable": "petalWidth"
         },
         {
          "index": 66,
          "species": "versicolor",
          "value": 1.5,
          "variable": "petalWidth"
         },
         {
          "index": 67,
          "species": "versicolor",
          "value": 1,
          "variable": "petalWidth"
         },
         {
          "index": 68,
          "species": "versicolor",
          "value": 1.5,
          "variable": "petalWidth"
         },
         {
          "index": 69,
          "species": "versicolor",
          "value": 1.1,
          "variable": "petalWidth"
         },
         {
          "index": 70,
          "species": "versicolor",
          "value": 1.8,
          "variable": "petalWidth"
         },
         {
          "index": 71,
          "species": "versicolor",
          "value": 1.3,
          "variable": "petalWidth"
         },
         {
          "index": 72,
          "species": "versicolor",
          "value": 1.5,
          "variable": "petalWidth"
         },
         {
          "index": 73,
          "species": "versicolor",
          "value": 1.2,
          "variable": "petalWidth"
         },
         {
          "index": 74,
          "species": "versicolor",
          "value": 1.3,
          "variable": "petalWidth"
         },
         {
          "index": 75,
          "species": "versicolor",
          "value": 1.4,
          "variable": "petalWidth"
         },
         {
          "index": 76,
          "species": "versicolor",
          "value": 1.4,
          "variable": "petalWidth"
         },
         {
          "index": 77,
          "species": "versicolor",
          "value": 1.7000000000000002,
          "variable": "petalWidth"
         },
         {
          "index": 78,
          "species": "versicolor",
          "value": 1.5,
          "variable": "petalWidth"
         },
         {
          "index": 79,
          "species": "versicolor",
          "value": 1,
          "variable": "petalWidth"
         },
         {
          "index": 80,
          "species": "versicolor",
          "value": 1.1,
          "variable": "petalWidth"
         },
         {
          "index": 81,
          "species": "versicolor",
          "value": 1,
          "variable": "petalWidth"
         },
         {
          "index": 82,
          "species": "versicolor",
          "value": 1.2,
          "variable": "petalWidth"
         },
         {
          "index": 83,
          "species": "versicolor",
          "value": 1.6,
          "variable": "petalWidth"
         },
         {
          "index": 84,
          "species": "versicolor",
          "value": 1.5,
          "variable": "petalWidth"
         },
         {
          "index": 85,
          "species": "versicolor",
          "value": 1.6,
          "variable": "petalWidth"
         },
         {
          "index": 86,
          "species": "versicolor",
          "value": 1.5,
          "variable": "petalWidth"
         },
         {
          "index": 87,
          "species": "versicolor",
          "value": 1.3,
          "variable": "petalWidth"
         },
         {
          "index": 88,
          "species": "versicolor",
          "value": 1.3,
          "variable": "petalWidth"
         },
         {
          "index": 89,
          "species": "versicolor",
          "value": 1.3,
          "variable": "petalWidth"
         },
         {
          "index": 90,
          "species": "versicolor",
          "value": 1.2,
          "variable": "petalWidth"
         },
         {
          "index": 91,
          "species": "versicolor",
          "value": 1.4,
          "variable": "petalWidth"
         },
         {
          "index": 92,
          "species": "versicolor",
          "value": 1.2,
          "variable": "petalWidth"
         },
         {
          "index": 93,
          "species": "versicolor",
          "value": 1,
          "variable": "petalWidth"
         },
         {
          "index": 94,
          "species": "versicolor",
          "value": 1.3,
          "variable": "petalWidth"
         },
         {
          "index": 95,
          "species": "versicolor",
          "value": 1.2,
          "variable": "petalWidth"
         },
         {
          "index": 96,
          "species": "versicolor",
          "value": 1.3,
          "variable": "petalWidth"
         },
         {
          "index": 97,
          "species": "versicolor",
          "value": 1.3,
          "variable": "petalWidth"
         },
         {
          "index": 98,
          "species": "versicolor",
          "value": 1.1,
          "variable": "petalWidth"
         },
         {
          "index": 99,
          "species": "versicolor",
          "value": 1.3,
          "variable": "petalWidth"
         },
         {
          "index": 100,
          "species": "virginica",
          "value": 2.5,
          "variable": "petalWidth"
         },
         {
          "index": 101,
          "species": "virginica",
          "value": 1.9,
          "variable": "petalWidth"
         },
         {
          "index": 102,
          "species": "virginica",
          "value": 2.1,
          "variable": "petalWidth"
         },
         {
          "index": 103,
          "species": "virginica",
          "value": 1.8,
          "variable": "petalWidth"
         },
         {
          "index": 104,
          "species": "virginica",
          "value": 2.2,
          "variable": "petalWidth"
         },
         {
          "index": 105,
          "species": "virginica",
          "value": 2.1,
          "variable": "petalWidth"
         },
         {
          "index": 106,
          "species": "virginica",
          "value": 1.7000000000000002,
          "variable": "petalWidth"
         },
         {
          "index": 107,
          "species": "virginica",
          "value": 1.8,
          "variable": "petalWidth"
         },
         {
          "index": 108,
          "species": "virginica",
          "value": 1.8,
          "variable": "petalWidth"
         },
         {
          "index": 109,
          "species": "virginica",
          "value": 2.5,
          "variable": "petalWidth"
         },
         {
          "index": 110,
          "species": "virginica",
          "value": 2,
          "variable": "petalWidth"
         },
         {
          "index": 111,
          "species": "virginica",
          "value": 1.9,
          "variable": "petalWidth"
         },
         {
          "index": 112,
          "species": "virginica",
          "value": 2.1,
          "variable": "petalWidth"
         },
         {
          "index": 113,
          "species": "virginica",
          "value": 2,
          "variable": "petalWidth"
         },
         {
          "index": 114,
          "species": "virginica",
          "value": 2.4,
          "variable": "petalWidth"
         },
         {
          "index": 115,
          "species": "virginica",
          "value": 2.3,
          "variable": "petalWidth"
         },
         {
          "index": 116,
          "species": "virginica",
          "value": 1.8,
          "variable": "petalWidth"
         },
         {
          "index": 117,
          "species": "virginica",
          "value": 2.2,
          "variable": "petalWidth"
         },
         {
          "index": 118,
          "species": "virginica",
          "value": 2.3,
          "variable": "petalWidth"
         },
         {
          "index": 119,
          "species": "virginica",
          "value": 1.5,
          "variable": "petalWidth"
         },
         {
          "index": 120,
          "species": "virginica",
          "value": 2.3,
          "variable": "petalWidth"
         },
         {
          "index": 121,
          "species": "virginica",
          "value": 2,
          "variable": "petalWidth"
         },
         {
          "index": 122,
          "species": "virginica",
          "value": 2,
          "variable": "petalWidth"
         },
         {
          "index": 123,
          "species": "virginica",
          "value": 1.8,
          "variable": "petalWidth"
         },
         {
          "index": 124,
          "species": "virginica",
          "value": 2.1,
          "variable": "petalWidth"
         },
         {
          "index": 125,
          "species": "virginica",
          "value": 1.8,
          "variable": "petalWidth"
         },
         {
          "index": 126,
          "species": "virginica",
          "value": 1.8,
          "variable": "petalWidth"
         },
         {
          "index": 127,
          "species": "virginica",
          "value": 1.8,
          "variable": "petalWidth"
         },
         {
          "index": 128,
          "species": "virginica",
          "value": 2.1,
          "variable": "petalWidth"
         },
         {
          "index": 129,
          "species": "virginica",
          "value": 1.6,
          "variable": "petalWidth"
         },
         {
          "index": 130,
          "species": "virginica",
          "value": 1.9,
          "variable": "petalWidth"
         },
         {
          "index": 131,
          "species": "virginica",
          "value": 2,
          "variable": "petalWidth"
         },
         {
          "index": 132,
          "species": "virginica",
          "value": 2.2,
          "variable": "petalWidth"
         },
         {
          "index": 133,
          "species": "virginica",
          "value": 1.5,
          "variable": "petalWidth"
         },
         {
          "index": 134,
          "species": "virginica",
          "value": 1.4,
          "variable": "petalWidth"
         },
         {
          "index": 135,
          "species": "virginica",
          "value": 2.3,
          "variable": "petalWidth"
         },
         {
          "index": 136,
          "species": "virginica",
          "value": 2.4,
          "variable": "petalWidth"
         },
         {
          "index": 137,
          "species": "virginica",
          "value": 1.8,
          "variable": "petalWidth"
         },
         {
          "index": 138,
          "species": "virginica",
          "value": 1.8,
          "variable": "petalWidth"
         },
         {
          "index": 139,
          "species": "virginica",
          "value": 2.1,
          "variable": "petalWidth"
         },
         {
          "index": 140,
          "species": "virginica",
          "value": 2.4,
          "variable": "petalWidth"
         },
         {
          "index": 141,
          "species": "virginica",
          "value": 2.3,
          "variable": "petalWidth"
         },
         {
          "index": 142,
          "species": "virginica",
          "value": 1.9,
          "variable": "petalWidth"
         },
         {
          "index": 143,
          "species": "virginica",
          "value": 2.3,
          "variable": "petalWidth"
         },
         {
          "index": 144,
          "species": "virginica",
          "value": 2.5,
          "variable": "petalWidth"
         },
         {
          "index": 145,
          "species": "virginica",
          "value": 2.3,
          "variable": "petalWidth"
         },
         {
          "index": 146,
          "species": "virginica",
          "value": 1.9,
          "variable": "petalWidth"
         },
         {
          "index": 147,
          "species": "virginica",
          "value": 2,
          "variable": "petalWidth"
         },
         {
          "index": 148,
          "species": "virginica",
          "value": 2.3,
          "variable": "petalWidth"
         },
         {
          "index": 149,
          "species": "virginica",
          "value": 1.8,
          "variable": "petalWidth"
         },
         {
          "index": 0,
          "species": "setosa",
          "value": 5.1,
          "variable": "sepalLength"
         },
         {
          "index": 1,
          "species": "setosa",
          "value": 4.9,
          "variable": "sepalLength"
         },
         {
          "index": 2,
          "species": "setosa",
          "value": 4.7,
          "variable": "sepalLength"
         },
         {
          "index": 3,
          "species": "setosa",
          "value": 4.6,
          "variable": "sepalLength"
         },
         {
          "index": 4,
          "species": "setosa",
          "value": 5,
          "variable": "sepalLength"
         },
         {
          "index": 5,
          "species": "setosa",
          "value": 5.4,
          "variable": "sepalLength"
         },
         {
          "index": 6,
          "species": "setosa",
          "value": 4.6,
          "variable": "sepalLength"
         },
         {
          "index": 7,
          "species": "setosa",
          "value": 5,
          "variable": "sepalLength"
         },
         {
          "index": 8,
          "species": "setosa",
          "value": 4.4,
          "variable": "sepalLength"
         },
         {
          "index": 9,
          "species": "setosa",
          "value": 4.9,
          "variable": "sepalLength"
         },
         {
          "index": 10,
          "species": "setosa",
          "value": 5.4,
          "variable": "sepalLength"
         },
         {
          "index": 11,
          "species": "setosa",
          "value": 4.8,
          "variable": "sepalLength"
         },
         {
          "index": 12,
          "species": "setosa",
          "value": 4.8,
          "variable": "sepalLength"
         },
         {
          "index": 13,
          "species": "setosa",
          "value": 4.3,
          "variable": "sepalLength"
         },
         {
          "index": 14,
          "species": "setosa",
          "value": 5.8,
          "variable": "sepalLength"
         },
         {
          "index": 15,
          "species": "setosa",
          "value": 5.7,
          "variable": "sepalLength"
         },
         {
          "index": 16,
          "species": "setosa",
          "value": 5.4,
          "variable": "sepalLength"
         },
         {
          "index": 17,
          "species": "setosa",
          "value": 5.1,
          "variable": "sepalLength"
         },
         {
          "index": 18,
          "species": "setosa",
          "value": 5.7,
          "variable": "sepalLength"
         },
         {
          "index": 19,
          "species": "setosa",
          "value": 5.1,
          "variable": "sepalLength"
         },
         {
          "index": 20,
          "species": "setosa",
          "value": 5.4,
          "variable": "sepalLength"
         },
         {
          "index": 21,
          "species": "setosa",
          "value": 5.1,
          "variable": "sepalLength"
         },
         {
          "index": 22,
          "species": "setosa",
          "value": 4.6,
          "variable": "sepalLength"
         },
         {
          "index": 23,
          "species": "setosa",
          "value": 5.1,
          "variable": "sepalLength"
         },
         {
          "index": 24,
          "species": "setosa",
          "value": 4.8,
          "variable": "sepalLength"
         },
         {
          "index": 25,
          "species": "setosa",
          "value": 5,
          "variable": "sepalLength"
         },
         {
          "index": 26,
          "species": "setosa",
          "value": 5,
          "variable": "sepalLength"
         },
         {
          "index": 27,
          "species": "setosa",
          "value": 5.2,
          "variable": "sepalLength"
         },
         {
          "index": 28,
          "species": "setosa",
          "value": 5.2,
          "variable": "sepalLength"
         },
         {
          "index": 29,
          "species": "setosa",
          "value": 4.7,
          "variable": "sepalLength"
         },
         {
          "index": 30,
          "species": "setosa",
          "value": 4.8,
          "variable": "sepalLength"
         },
         {
          "index": 31,
          "species": "setosa",
          "value": 5.4,
          "variable": "sepalLength"
         },
         {
          "index": 32,
          "species": "setosa",
          "value": 5.2,
          "variable": "sepalLength"
         },
         {
          "index": 33,
          "species": "setosa",
          "value": 5.5,
          "variable": "sepalLength"
         },
         {
          "index": 34,
          "species": "setosa",
          "value": 4.9,
          "variable": "sepalLength"
         },
         {
          "index": 35,
          "species": "setosa",
          "value": 5,
          "variable": "sepalLength"
         },
         {
          "index": 36,
          "species": "setosa",
          "value": 5.5,
          "variable": "sepalLength"
         },
         {
          "index": 37,
          "species": "setosa",
          "value": 4.9,
          "variable": "sepalLength"
         },
         {
          "index": 38,
          "species": "setosa",
          "value": 4.4,
          "variable": "sepalLength"
         },
         {
          "index": 39,
          "species": "setosa",
          "value": 5.1,
          "variable": "sepalLength"
         },
         {
          "index": 40,
          "species": "setosa",
          "value": 5,
          "variable": "sepalLength"
         },
         {
          "index": 41,
          "species": "setosa",
          "value": 4.5,
          "variable": "sepalLength"
         },
         {
          "index": 42,
          "species": "setosa",
          "value": 4.4,
          "variable": "sepalLength"
         },
         {
          "index": 43,
          "species": "setosa",
          "value": 5,
          "variable": "sepalLength"
         },
         {
          "index": 44,
          "species": "setosa",
          "value": 5.1,
          "variable": "sepalLength"
         },
         {
          "index": 45,
          "species": "setosa",
          "value": 4.8,
          "variable": "sepalLength"
         },
         {
          "index": 46,
          "species": "setosa",
          "value": 5.1,
          "variable": "sepalLength"
         },
         {
          "index": 47,
          "species": "setosa",
          "value": 4.6,
          "variable": "sepalLength"
         },
         {
          "index": 48,
          "species": "setosa",
          "value": 5.3,
          "variable": "sepalLength"
         },
         {
          "index": 49,
          "species": "setosa",
          "value": 5,
          "variable": "sepalLength"
         },
         {
          "index": 50,
          "species": "versicolor",
          "value": 7,
          "variable": "sepalLength"
         },
         {
          "index": 51,
          "species": "versicolor",
          "value": 6.4,
          "variable": "sepalLength"
         },
         {
          "index": 52,
          "species": "versicolor",
          "value": 6.9,
          "variable": "sepalLength"
         },
         {
          "index": 53,
          "species": "versicolor",
          "value": 5.5,
          "variable": "sepalLength"
         },
         {
          "index": 54,
          "species": "versicolor",
          "value": 6.5,
          "variable": "sepalLength"
         },
         {
          "index": 55,
          "species": "versicolor",
          "value": 5.7,
          "variable": "sepalLength"
         },
         {
          "index": 56,
          "species": "versicolor",
          "value": 6.3,
          "variable": "sepalLength"
         },
         {
          "index": 57,
          "species": "versicolor",
          "value": 4.9,
          "variable": "sepalLength"
         },
         {
          "index": 58,
          "species": "versicolor",
          "value": 6.6,
          "variable": "sepalLength"
         },
         {
          "index": 59,
          "species": "versicolor",
          "value": 5.2,
          "variable": "sepalLength"
         },
         {
          "index": 60,
          "species": "versicolor",
          "value": 5,
          "variable": "sepalLength"
         },
         {
          "index": 61,
          "species": "versicolor",
          "value": 5.9,
          "variable": "sepalLength"
         },
         {
          "index": 62,
          "species": "versicolor",
          "value": 6,
          "variable": "sepalLength"
         },
         {
          "index": 63,
          "species": "versicolor",
          "value": 6.1,
          "variable": "sepalLength"
         },
         {
          "index": 64,
          "species": "versicolor",
          "value": 5.6,
          "variable": "sepalLength"
         },
         {
          "index": 65,
          "species": "versicolor",
          "value": 6.7,
          "variable": "sepalLength"
         },
         {
          "index": 66,
          "species": "versicolor",
          "value": 5.6,
          "variable": "sepalLength"
         },
         {
          "index": 67,
          "species": "versicolor",
          "value": 5.8,
          "variable": "sepalLength"
         },
         {
          "index": 68,
          "species": "versicolor",
          "value": 6.2,
          "variable": "sepalLength"
         },
         {
          "index": 69,
          "species": "versicolor",
          "value": 5.6,
          "variable": "sepalLength"
         },
         {
          "index": 70,
          "species": "versicolor",
          "value": 5.9,
          "variable": "sepalLength"
         },
         {
          "index": 71,
          "species": "versicolor",
          "value": 6.1,
          "variable": "sepalLength"
         },
         {
          "index": 72,
          "species": "versicolor",
          "value": 6.3,
          "variable": "sepalLength"
         },
         {
          "index": 73,
          "species": "versicolor",
          "value": 6.1,
          "variable": "sepalLength"
         },
         {
          "index": 74,
          "species": "versicolor",
          "value": 6.4,
          "variable": "sepalLength"
         },
         {
          "index": 75,
          "species": "versicolor",
          "value": 6.6,
          "variable": "sepalLength"
         },
         {
          "index": 76,
          "species": "versicolor",
          "value": 6.8,
          "variable": "sepalLength"
         },
         {
          "index": 77,
          "species": "versicolor",
          "value": 6.7,
          "variable": "sepalLength"
         },
         {
          "index": 78,
          "species": "versicolor",
          "value": 6,
          "variable": "sepalLength"
         },
         {
          "index": 79,
          "species": "versicolor",
          "value": 5.7,
          "variable": "sepalLength"
         },
         {
          "index": 80,
          "species": "versicolor",
          "value": 5.5,
          "variable": "sepalLength"
         },
         {
          "index": 81,
          "species": "versicolor",
          "value": 5.5,
          "variable": "sepalLength"
         },
         {
          "index": 82,
          "species": "versicolor",
          "value": 5.8,
          "variable": "sepalLength"
         },
         {
          "index": 83,
          "species": "versicolor",
          "value": 6,
          "variable": "sepalLength"
         },
         {
          "index": 84,
          "species": "versicolor",
          "value": 5.4,
          "variable": "sepalLength"
         },
         {
          "index": 85,
          "species": "versicolor",
          "value": 6,
          "variable": "sepalLength"
         },
         {
          "index": 86,
          "species": "versicolor",
          "value": 6.7,
          "variable": "sepalLength"
         },
         {
          "index": 87,
          "species": "versicolor",
          "value": 6.3,
          "variable": "sepalLength"
         },
         {
          "index": 88,
          "species": "versicolor",
          "value": 5.6,
          "variable": "sepalLength"
         },
         {
          "index": 89,
          "species": "versicolor",
          "value": 5.5,
          "variable": "sepalLength"
         },
         {
          "index": 90,
          "species": "versicolor",
          "value": 5.5,
          "variable": "sepalLength"
         },
         {
          "index": 91,
          "species": "versicolor",
          "value": 6.1,
          "variable": "sepalLength"
         },
         {
          "index": 92,
          "species": "versicolor",
          "value": 5.8,
          "variable": "sepalLength"
         },
         {
          "index": 93,
          "species": "versicolor",
          "value": 5,
          "variable": "sepalLength"
         },
         {
          "index": 94,
          "species": "versicolor",
          "value": 5.6,
          "variable": "sepalLength"
         },
         {
          "index": 95,
          "species": "versicolor",
          "value": 5.7,
          "variable": "sepalLength"
         },
         {
          "index": 96,
          "species": "versicolor",
          "value": 5.7,
          "variable": "sepalLength"
         },
         {
          "index": 97,
          "species": "versicolor",
          "value": 6.2,
          "variable": "sepalLength"
         },
         {
          "index": 98,
          "species": "versicolor",
          "value": 5.1,
          "variable": "sepalLength"
         },
         {
          "index": 99,
          "species": "versicolor",
          "value": 5.7,
          "variable": "sepalLength"
         },
         {
          "index": 100,
          "species": "virginica",
          "value": 6.3,
          "variable": "sepalLength"
         },
         {
          "index": 101,
          "species": "virginica",
          "value": 5.8,
          "variable": "sepalLength"
         },
         {
          "index": 102,
          "species": "virginica",
          "value": 7.1,
          "variable": "sepalLength"
         },
         {
          "index": 103,
          "species": "virginica",
          "value": 6.3,
          "variable": "sepalLength"
         },
         {
          "index": 104,
          "species": "virginica",
          "value": 6.5,
          "variable": "sepalLength"
         },
         {
          "index": 105,
          "species": "virginica",
          "value": 7.6,
          "variable": "sepalLength"
         },
         {
          "index": 106,
          "species": "virginica",
          "value": 4.9,
          "variable": "sepalLength"
         },
         {
          "index": 107,
          "species": "virginica",
          "value": 7.3,
          "variable": "sepalLength"
         },
         {
          "index": 108,
          "species": "virginica",
          "value": 6.7,
          "variable": "sepalLength"
         },
         {
          "index": 109,
          "species": "virginica",
          "value": 7.2,
          "variable": "sepalLength"
         },
         {
          "index": 110,
          "species": "virginica",
          "value": 6.5,
          "variable": "sepalLength"
         },
         {
          "index": 111,
          "species": "virginica",
          "value": 6.4,
          "variable": "sepalLength"
         },
         {
          "index": 112,
          "species": "virginica",
          "value": 6.8,
          "variable": "sepalLength"
         },
         {
          "index": 113,
          "species": "virginica",
          "value": 5.7,
          "variable": "sepalLength"
         },
         {
          "index": 114,
          "species": "virginica",
          "value": 5.8,
          "variable": "sepalLength"
         },
         {
          "index": 115,
          "species": "virginica",
          "value": 6.4,
          "variable": "sepalLength"
         },
         {
          "index": 116,
          "species": "virginica",
          "value": 6.5,
          "variable": "sepalLength"
         },
         {
          "index": 117,
          "species": "virginica",
          "value": 7.7,
          "variable": "sepalLength"
         },
         {
          "index": 118,
          "species": "virginica",
          "value": 7.7,
          "variable": "sepalLength"
         },
         {
          "index": 119,
          "species": "virginica",
          "value": 6,
          "variable": "sepalLength"
         },
         {
          "index": 120,
          "species": "virginica",
          "value": 6.9,
          "variable": "sepalLength"
         },
         {
          "index": 121,
          "species": "virginica",
          "value": 5.6,
          "variable": "sepalLength"
         },
         {
          "index": 122,
          "species": "virginica",
          "value": 7.7,
          "variable": "sepalLength"
         },
         {
          "index": 123,
          "species": "virginica",
          "value": 6.3,
          "variable": "sepalLength"
         },
         {
          "index": 124,
          "species": "virginica",
          "value": 6.7,
          "variable": "sepalLength"
         },
         {
          "index": 125,
          "species": "virginica",
          "value": 7.2,
          "variable": "sepalLength"
         },
         {
          "index": 126,
          "species": "virginica",
          "value": 6.2,
          "variable": "sepalLength"
         },
         {
          "index": 127,
          "species": "virginica",
          "value": 6.1,
          "variable": "sepalLength"
         },
         {
          "index": 128,
          "species": "virginica",
          "value": 6.4,
          "variable": "sepalLength"
         },
         {
          "index": 129,
          "species": "virginica",
          "value": 7.2,
          "variable": "sepalLength"
         },
         {
          "index": 130,
          "species": "virginica",
          "value": 7.4,
          "variable": "sepalLength"
         },
         {
          "index": 131,
          "species": "virginica",
          "value": 7.9,
          "variable": "sepalLength"
         },
         {
          "index": 132,
          "species": "virginica",
          "value": 6.4,
          "variable": "sepalLength"
         },
         {
          "index": 133,
          "species": "virginica",
          "value": 6.3,
          "variable": "sepalLength"
         },
         {
          "index": 134,
          "species": "virginica",
          "value": 6.1,
          "variable": "sepalLength"
         },
         {
          "index": 135,
          "species": "virginica",
          "value": 7.7,
          "variable": "sepalLength"
         },
         {
          "index": 136,
          "species": "virginica",
          "value": 6.3,
          "variable": "sepalLength"
         },
         {
          "index": 137,
          "species": "virginica",
          "value": 6.4,
          "variable": "sepalLength"
         },
         {
          "index": 138,
          "species": "virginica",
          "value": 6,
          "variable": "sepalLength"
         },
         {
          "index": 139,
          "species": "virginica",
          "value": 6.9,
          "variable": "sepalLength"
         },
         {
          "index": 140,
          "species": "virginica",
          "value": 6.7,
          "variable": "sepalLength"
         },
         {
          "index": 141,
          "species": "virginica",
          "value": 6.9,
          "variable": "sepalLength"
         },
         {
          "index": 142,
          "species": "virginica",
          "value": 5.8,
          "variable": "sepalLength"
         },
         {
          "index": 143,
          "species": "virginica",
          "value": 6.8,
          "variable": "sepalLength"
         },
         {
          "index": 144,
          "species": "virginica",
          "value": 6.7,
          "variable": "sepalLength"
         },
         {
          "index": 145,
          "species": "virginica",
          "value": 6.7,
          "variable": "sepalLength"
         },
         {
          "index": 146,
          "species": "virginica",
          "value": 6.3,
          "variable": "sepalLength"
         },
         {
          "index": 147,
          "species": "virginica",
          "value": 6.5,
          "variable": "sepalLength"
         },
         {
          "index": 148,
          "species": "virginica",
          "value": 6.2,
          "variable": "sepalLength"
         },
         {
          "index": 149,
          "species": "virginica",
          "value": 5.9,
          "variable": "sepalLength"
         },
         {
          "index": 0,
          "species": "setosa",
          "value": 3.5,
          "variable": "sepalWidth"
         },
         {
          "index": 1,
          "species": "setosa",
          "value": 3,
          "variable": "sepalWidth"
         },
         {
          "index": 2,
          "species": "setosa",
          "value": 3.2,
          "variable": "sepalWidth"
         },
         {
          "index": 3,
          "species": "setosa",
          "value": 3.1,
          "variable": "sepalWidth"
         },
         {
          "index": 4,
          "species": "setosa",
          "value": 3.6,
          "variable": "sepalWidth"
         },
         {
          "index": 5,
          "species": "setosa",
          "value": 3.9,
          "variable": "sepalWidth"
         },
         {
          "index": 6,
          "species": "setosa",
          "value": 3.4,
          "variable": "sepalWidth"
         },
         {
          "index": 7,
          "species": "setosa",
          "value": 3.4,
          "variable": "sepalWidth"
         },
         {
          "index": 8,
          "species": "setosa",
          "value": 2.9,
          "variable": "sepalWidth"
         },
         {
          "index": 9,
          "species": "setosa",
          "value": 3.1,
          "variable": "sepalWidth"
         },
         {
          "index": 10,
          "species": "setosa",
          "value": 3.7,
          "variable": "sepalWidth"
         },
         {
          "index": 11,
          "species": "setosa",
          "value": 3.4,
          "variable": "sepalWidth"
         },
         {
          "index": 12,
          "species": "setosa",
          "value": 3,
          "variable": "sepalWidth"
         },
         {
          "index": 13,
          "species": "setosa",
          "value": 3,
          "variable": "sepalWidth"
         },
         {
          "index": 14,
          "species": "setosa",
          "value": 4,
          "variable": "sepalWidth"
         },
         {
          "index": 15,
          "species": "setosa",
          "value": 4.4,
          "variable": "sepalWidth"
         },
         {
          "index": 16,
          "species": "setosa",
          "value": 3.9,
          "variable": "sepalWidth"
         },
         {
          "index": 17,
          "species": "setosa",
          "value": 3.5,
          "variable": "sepalWidth"
         },
         {
          "index": 18,
          "species": "setosa",
          "value": 3.8,
          "variable": "sepalWidth"
         },
         {
          "index": 19,
          "species": "setosa",
          "value": 3.8,
          "variable": "sepalWidth"
         },
         {
          "index": 20,
          "species": "setosa",
          "value": 3.4,
          "variable": "sepalWidth"
         },
         {
          "index": 21,
          "species": "setosa",
          "value": 3.7,
          "variable": "sepalWidth"
         },
         {
          "index": 22,
          "species": "setosa",
          "value": 3.6,
          "variable": "sepalWidth"
         },
         {
          "index": 23,
          "species": "setosa",
          "value": 3.3,
          "variable": "sepalWidth"
         },
         {
          "index": 24,
          "species": "setosa",
          "value": 3.4,
          "variable": "sepalWidth"
         },
         {
          "index": 25,
          "species": "setosa",
          "value": 3,
          "variable": "sepalWidth"
         },
         {
          "index": 26,
          "species": "setosa",
          "value": 3.4,
          "variable": "sepalWidth"
         },
         {
          "index": 27,
          "species": "setosa",
          "value": 3.5,
          "variable": "sepalWidth"
         },
         {
          "index": 28,
          "species": "setosa",
          "value": 3.4,
          "variable": "sepalWidth"
         },
         {
          "index": 29,
          "species": "setosa",
          "value": 3.2,
          "variable": "sepalWidth"
         },
         {
          "index": 30,
          "species": "setosa",
          "value": 3.1,
          "variable": "sepalWidth"
         },
         {
          "index": 31,
          "species": "setosa",
          "value": 3.4,
          "variable": "sepalWidth"
         },
         {
          "index": 32,
          "species": "setosa",
          "value": 4.1,
          "variable": "sepalWidth"
         },
         {
          "index": 33,
          "species": "setosa",
          "value": 4.2,
          "variable": "sepalWidth"
         },
         {
          "index": 34,
          "species": "setosa",
          "value": 3.1,
          "variable": "sepalWidth"
         },
         {
          "index": 35,
          "species": "setosa",
          "value": 3.2,
          "variable": "sepalWidth"
         },
         {
          "index": 36,
          "species": "setosa",
          "value": 3.5,
          "variable": "sepalWidth"
         },
         {
          "index": 37,
          "species": "setosa",
          "value": 3.6,
          "variable": "sepalWidth"
         },
         {
          "index": 38,
          "species": "setosa",
          "value": 3,
          "variable": "sepalWidth"
         },
         {
          "index": 39,
          "species": "setosa",
          "value": 3.4,
          "variable": "sepalWidth"
         },
         {
          "index": 40,
          "species": "setosa",
          "value": 3.5,
          "variable": "sepalWidth"
         },
         {
          "index": 41,
          "species": "setosa",
          "value": 2.3,
          "variable": "sepalWidth"
         },
         {
          "index": 42,
          "species": "setosa",
          "value": 3.2,
          "variable": "sepalWidth"
         },
         {
          "index": 43,
          "species": "setosa",
          "value": 3.5,
          "variable": "sepalWidth"
         },
         {
          "index": 44,
          "species": "setosa",
          "value": 3.8,
          "variable": "sepalWidth"
         },
         {
          "index": 45,
          "species": "setosa",
          "value": 3,
          "variable": "sepalWidth"
         },
         {
          "index": 46,
          "species": "setosa",
          "value": 3.8,
          "variable": "sepalWidth"
         },
         {
          "index": 47,
          "species": "setosa",
          "value": 3.2,
          "variable": "sepalWidth"
         },
         {
          "index": 48,
          "species": "setosa",
          "value": 3.7,
          "variable": "sepalWidth"
         },
         {
          "index": 49,
          "species": "setosa",
          "value": 3.3,
          "variable": "sepalWidth"
         },
         {
          "index": 50,
          "species": "versicolor",
          "value": 3.2,
          "variable": "sepalWidth"
         },
         {
          "index": 51,
          "species": "versicolor",
          "value": 3.2,
          "variable": "sepalWidth"
         },
         {
          "index": 52,
          "species": "versicolor",
          "value": 3.1,
          "variable": "sepalWidth"
         },
         {
          "index": 53,
          "species": "versicolor",
          "value": 2.3,
          "variable": "sepalWidth"
         },
         {
          "index": 54,
          "species": "versicolor",
          "value": 2.8,
          "variable": "sepalWidth"
         },
         {
          "index": 55,
          "species": "versicolor",
          "value": 2.8,
          "variable": "sepalWidth"
         },
         {
          "index": 56,
          "species": "versicolor",
          "value": 3.3,
          "variable": "sepalWidth"
         },
         {
          "index": 57,
          "species": "versicolor",
          "value": 2.4,
          "variable": "sepalWidth"
         },
         {
          "index": 58,
          "species": "versicolor",
          "value": 2.9,
          "variable": "sepalWidth"
         },
         {
          "index": 59,
          "species": "versicolor",
          "value": 2.7,
          "variable": "sepalWidth"
         },
         {
          "index": 60,
          "species": "versicolor",
          "value": 2,
          "variable": "sepalWidth"
         },
         {
          "index": 61,
          "species": "versicolor",
          "value": 3,
          "variable": "sepalWidth"
         },
         {
          "index": 62,
          "species": "versicolor",
          "value": 2.2,
          "variable": "sepalWidth"
         },
         {
          "index": 63,
          "species": "versicolor",
          "value": 2.9,
          "variable": "sepalWidth"
         },
         {
          "index": 64,
          "species": "versicolor",
          "value": 2.9,
          "variable": "sepalWidth"
         },
         {
          "index": 65,
          "species": "versicolor",
          "value": 3.1,
          "variable": "sepalWidth"
         },
         {
          "index": 66,
          "species": "versicolor",
          "value": 3,
          "variable": "sepalWidth"
         },
         {
          "index": 67,
          "species": "versicolor",
          "value": 2.7,
          "variable": "sepalWidth"
         },
         {
          "index": 68,
          "species": "versicolor",
          "value": 2.2,
          "variable": "sepalWidth"
         },
         {
          "index": 69,
          "species": "versicolor",
          "value": 2.5,
          "variable": "sepalWidth"
         },
         {
          "index": 70,
          "species": "versicolor",
          "value": 3.2,
          "variable": "sepalWidth"
         },
         {
          "index": 71,
          "species": "versicolor",
          "value": 2.8,
          "variable": "sepalWidth"
         },
         {
          "index": 72,
          "species": "versicolor",
          "value": 2.5,
          "variable": "sepalWidth"
         },
         {
          "index": 73,
          "species": "versicolor",
          "value": 2.8,
          "variable": "sepalWidth"
         },
         {
          "index": 74,
          "species": "versicolor",
          "value": 2.9,
          "variable": "sepalWidth"
         },
         {
          "index": 75,
          "species": "versicolor",
          "value": 3,
          "variable": "sepalWidth"
         },
         {
          "index": 76,
          "species": "versicolor",
          "value": 2.8,
          "variable": "sepalWidth"
         },
         {
          "index": 77,
          "species": "versicolor",
          "value": 3,
          "variable": "sepalWidth"
         },
         {
          "index": 78,
          "species": "versicolor",
          "value": 2.9,
          "variable": "sepalWidth"
         },
         {
          "index": 79,
          "species": "versicolor",
          "value": 2.6,
          "variable": "sepalWidth"
         },
         {
          "index": 80,
          "species": "versicolor",
          "value": 2.4,
          "variable": "sepalWidth"
         },
         {
          "index": 81,
          "species": "versicolor",
          "value": 2.4,
          "variable": "sepalWidth"
         },
         {
          "index": 82,
          "species": "versicolor",
          "value": 2.7,
          "variable": "sepalWidth"
         },
         {
          "index": 83,
          "species": "versicolor",
          "value": 2.7,
          "variable": "sepalWidth"
         },
         {
          "index": 84,
          "species": "versicolor",
          "value": 3,
          "variable": "sepalWidth"
         },
         {
          "index": 85,
          "species": "versicolor",
          "value": 3.4,
          "variable": "sepalWidth"
         },
         {
          "index": 86,
          "species": "versicolor",
          "value": 3.1,
          "variable": "sepalWidth"
         },
         {
          "index": 87,
          "species": "versicolor",
          "value": 2.3,
          "variable": "sepalWidth"
         },
         {
          "index": 88,
          "species": "versicolor",
          "value": 3,
          "variable": "sepalWidth"
         },
         {
          "index": 89,
          "species": "versicolor",
          "value": 2.5,
          "variable": "sepalWidth"
         },
         {
          "index": 90,
          "species": "versicolor",
          "value": 2.6,
          "variable": "sepalWidth"
         },
         {
          "index": 91,
          "species": "versicolor",
          "value": 3,
          "variable": "sepalWidth"
         },
         {
          "index": 92,
          "species": "versicolor",
          "value": 2.6,
          "variable": "sepalWidth"
         },
         {
          "index": 93,
          "species": "versicolor",
          "value": 2.3,
          "variable": "sepalWidth"
         },
         {
          "index": 94,
          "species": "versicolor",
          "value": 2.7,
          "variable": "sepalWidth"
         },
         {
          "index": 95,
          "species": "versicolor",
          "value": 3,
          "variable": "sepalWidth"
         },
         {
          "index": 96,
          "species": "versicolor",
          "value": 2.9,
          "variable": "sepalWidth"
         },
         {
          "index": 97,
          "species": "versicolor",
          "value": 2.9,
          "variable": "sepalWidth"
         },
         {
          "index": 98,
          "species": "versicolor",
          "value": 2.5,
          "variable": "sepalWidth"
         },
         {
          "index": 99,
          "species": "versicolor",
          "value": 2.8,
          "variable": "sepalWidth"
         },
         {
          "index": 100,
          "species": "virginica",
          "value": 3.3,
          "variable": "sepalWidth"
         },
         {
          "index": 101,
          "species": "virginica",
          "value": 2.7,
          "variable": "sepalWidth"
         },
         {
          "index": 102,
          "species": "virginica",
          "value": 3,
          "variable": "sepalWidth"
         },
         {
          "index": 103,
          "species": "virginica",
          "value": 2.9,
          "variable": "sepalWidth"
         },
         {
          "index": 104,
          "species": "virginica",
          "value": 3,
          "variable": "sepalWidth"
         },
         {
          "index": 105,
          "species": "virginica",
          "value": 3,
          "variable": "sepalWidth"
         },
         {
          "index": 106,
          "species": "virginica",
          "value": 2.5,
          "variable": "sepalWidth"
         },
         {
          "index": 107,
          "species": "virginica",
          "value": 2.9,
          "variable": "sepalWidth"
         },
         {
          "index": 108,
          "species": "virginica",
          "value": 2.5,
          "variable": "sepalWidth"
         },
         {
          "index": 109,
          "species": "virginica",
          "value": 3.6,
          "variable": "sepalWidth"
         },
         {
          "index": 110,
          "species": "virginica",
          "value": 3.2,
          "variable": "sepalWidth"
         },
         {
          "index": 111,
          "species": "virginica",
          "value": 2.7,
          "variable": "sepalWidth"
         },
         {
          "index": 112,
          "species": "virginica",
          "value": 3,
          "variable": "sepalWidth"
         },
         {
          "index": 113,
          "species": "virginica",
          "value": 2.5,
          "variable": "sepalWidth"
         },
         {
          "index": 114,
          "species": "virginica",
          "value": 2.8,
          "variable": "sepalWidth"
         },
         {
          "index": 115,
          "species": "virginica",
          "value": 3.2,
          "variable": "sepalWidth"
         },
         {
          "index": 116,
          "species": "virginica",
          "value": 3,
          "variable": "sepalWidth"
         },
         {
          "index": 117,
          "species": "virginica",
          "value": 3.8,
          "variable": "sepalWidth"
         },
         {
          "index": 118,
          "species": "virginica",
          "value": 2.6,
          "variable": "sepalWidth"
         },
         {
          "index": 119,
          "species": "virginica",
          "value": 2.2,
          "variable": "sepalWidth"
         },
         {
          "index": 120,
          "species": "virginica",
          "value": 3.2,
          "variable": "sepalWidth"
         },
         {
          "index": 121,
          "species": "virginica",
          "value": 2.8,
          "variable": "sepalWidth"
         },
         {
          "index": 122,
          "species": "virginica",
          "value": 2.8,
          "variable": "sepalWidth"
         },
         {
          "index": 123,
          "species": "virginica",
          "value": 2.7,
          "variable": "sepalWidth"
         },
         {
          "index": 124,
          "species": "virginica",
          "value": 3.3,
          "variable": "sepalWidth"
         },
         {
          "index": 125,
          "species": "virginica",
          "value": 3.2,
          "variable": "sepalWidth"
         },
         {
          "index": 126,
          "species": "virginica",
          "value": 2.8,
          "variable": "sepalWidth"
         },
         {
          "index": 127,
          "species": "virginica",
          "value": 3,
          "variable": "sepalWidth"
         },
         {
          "index": 128,
          "species": "virginica",
          "value": 2.8,
          "variable": "sepalWidth"
         },
         {
          "index": 129,
          "species": "virginica",
          "value": 3,
          "variable": "sepalWidth"
         },
         {
          "index": 130,
          "species": "virginica",
          "value": 2.8,
          "variable": "sepalWidth"
         },
         {
          "index": 131,
          "species": "virginica",
          "value": 3.8,
          "variable": "sepalWidth"
         },
         {
          "index": 132,
          "species": "virginica",
          "value": 2.8,
          "variable": "sepalWidth"
         },
         {
          "index": 133,
          "species": "virginica",
          "value": 2.8,
          "variable": "sepalWidth"
         },
         {
          "index": 134,
          "species": "virginica",
          "value": 2.6,
          "variable": "sepalWidth"
         },
         {
          "index": 135,
          "species": "virginica",
          "value": 3,
          "variable": "sepalWidth"
         },
         {
          "index": 136,
          "species": "virginica",
          "value": 3.4,
          "variable": "sepalWidth"
         },
         {
          "index": 137,
          "species": "virginica",
          "value": 3.1,
          "variable": "sepalWidth"
         },
         {
          "index": 138,
          "species": "virginica",
          "value": 3,
          "variable": "sepalWidth"
         },
         {
          "index": 139,
          "species": "virginica",
          "value": 3.1,
          "variable": "sepalWidth"
         },
         {
          "index": 140,
          "species": "virginica",
          "value": 3.1,
          "variable": "sepalWidth"
         },
         {
          "index": 141,
          "species": "virginica",
          "value": 3.1,
          "variable": "sepalWidth"
         },
         {
          "index": 142,
          "species": "virginica",
          "value": 2.7,
          "variable": "sepalWidth"
         },
         {
          "index": 143,
          "species": "virginica",
          "value": 3.2,
          "variable": "sepalWidth"
         },
         {
          "index": 144,
          "species": "virginica",
          "value": 3.3,
          "variable": "sepalWidth"
         },
         {
          "index": 145,
          "species": "virginica",
          "value": 3,
          "variable": "sepalWidth"
         },
         {
          "index": 146,
          "species": "virginica",
          "value": 2.5,
          "variable": "sepalWidth"
         },
         {
          "index": 147,
          "species": "virginica",
          "value": 3,
          "variable": "sepalWidth"
         },
         {
          "index": 148,
          "species": "virginica",
          "value": 3.4,
          "variable": "sepalWidth"
         },
         {
          "index": 149,
          "species": "virginica",
          "value": 3,
          "variable": "sepalWidth"
         }
        ]
       },
       "encoding": {
        "color": {
         "field": "species",
         "type": "nominal"
        },
        "detail": {
         "field": "index",
         "type": "nominal"
        },
        "opacity": {
         "value": 0.5
        },
        "x": {
         "field": "variable",
         "type": "nominal"
        },
        "y": {
         "field": "value",
         "type": "quantitative"
        }
       },
       "mark": "line",
       "width": 500
      },
      "image/png": "[encoded data removed]",
      "text/plain": [
       "<VegaLite 2 object>\n",
       "\n",
       "If you see this message, it means the renderer has not been properly enabled\n",
       "for the frontend that you are using. For more information, see\n",
       "https://altair-viz.github.io/user_guide/troubleshooting.html\n"
      ]
     },
     "execution_count": 4,
     "metadata": {},
     "output_type": "execute_result"
    }
   ],
   "source": [
    "import altair as alt\n",
    "from vega_datasets import data\n",
    "\n",
    "source = data.iris()\n",
    "source_transformed = source.reset_index().melt(['species', 'index'])\n",
    "\n",
    "alt.Chart(source_transformed).mark_line().encode(\n",
    "    x='variable:N',\n",
    "    y='value:Q',\n",
    "    color='species:N',\n",
    "    detail='index:N',\n",
    "    opacity=alt.value(0.5)\n",
    ").properties(width=500)"
   ]
  },
  {
   "cell_type": "code",
   "execution_count": 1,
   "metadata": {},
   "outputs": [
    {
     "data": {
      "text/html": [
       "<div>\n",
       "<style scoped>\n",
       "    .dataframe tbody tr th:only-of-type {\n",
       "        vertical-align: middle;\n",
       "    }\n",
       "\n",
       "    .dataframe tbody tr th {\n",
       "        vertical-align: top;\n",
       "    }\n",
       "\n",
       "    .dataframe thead th {\n",
       "        text-align: right;\n",
       "    }\n",
       "</style>\n",
       "<table border=\"1\" class=\"dataframe\">\n",
       "  <thead>\n",
       "    <tr style=\"text-align: right;\">\n",
       "      <th></th>\n",
       "      <th>ROC_AUC</th>\n",
       "      <th>lgbm__max_depth</th>\n",
       "      <th>lgbm__num_leaves</th>\n",
       "      <th>lgbm__min_child_samples</th>\n",
       "    </tr>\n",
       "  </thead>\n",
       "  <tbody>\n",
       "    <tr>\n",
       "      <th>0</th>\n",
       "      <td>0.7578376974936794</td>\n",
       "      <td>20.0</td>\n",
       "      <td>50.0</td>\n",
       "      <td>20.0</td>\n",
       "    </tr>\n",
       "    <tr>\n",
       "      <th>1</th>\n",
       "      <td>0.7578376974936794</td>\n",
       "      <td>20.0</td>\n",
       "      <td>50.0</td>\n",
       "      <td>20.0</td>\n",
       "    </tr>\n",
       "    <tr>\n",
       "      <th>2</th>\n",
       "      <td>0.7578376974936794</td>\n",
       "      <td>20.0</td>\n",
       "      <td>50.0</td>\n",
       "      <td>20.0</td>\n",
       "    </tr>\n",
       "    <tr>\n",
       "      <th>3</th>\n",
       "      <td>0.7383150842338956</td>\n",
       "      <td>20.0</td>\n",
       "      <td>50.0</td>\n",
       "      <td>20.0</td>\n",
       "    </tr>\n",
       "    <tr>\n",
       "      <th>4</th>\n",
       "      <td>0.7859497222152486</td>\n",
       "      <td>-1.0</td>\n",
       "      <td>100.0</td>\n",
       "      <td>600.0</td>\n",
       "    </tr>\n",
       "  </tbody>\n",
       "</table>\n",
       "</div>"
      ],
      "text/plain": [
       "              ROC_AUC           ...           lgbm__min_child_samples\n",
       "0  0.7578376974936794           ...                              20.0\n",
       "1  0.7578376974936794           ...                              20.0\n",
       "2  0.7578376974936794           ...                              20.0\n",
       "3  0.7383150842338956           ...                              20.0\n",
       "4  0.7859497222152486           ...                             600.0\n",
       "\n",
       "[5 rows x 4 columns]"
      ]
     },
     "execution_count": 1,
     "metadata": {},
     "output_type": "execute_result"
    }
   ],
   "source": [
    "from neptunelib.session import Session\n",
    "from neptunecontrib.api.utils import strip_prefices\n",
    "\n",
    "session = Session()\n",
    "project = session.get_projects('neptune-ml')['neptune-ml/Home-Credit-Default-Risk']\n",
    "leaderboard = project.get_leaderboard(state=['succeeded'], owner=['czakon'])\n",
    "leaderboard.head()\n",
    "\n",
    "hyper_df = leaderboard[['channel_ROC_AUC',\n",
    "                        'parameter_lgbm__max_depth',\n",
    "                        'parameter_lgbm__num_leaves',\n",
    "                        'parameter_lgbm__min_child_samples']]\n",
    "hyper_df.columns = strip_prefices(hyper_df.columns, prefices=['channel_','parameter_'])\n",
    "hyper_df.head()"
   ]
  },
  {
   "cell_type": "code",
   "execution_count": 12,
   "metadata": {},
   "outputs": [],
   "source": [
    "import pandas as pd\n",
    "\n",
    "def format_df(df, metric_column, param_columns):\n",
    "    df = pd.melt(df, \n",
    "                 id_vars=metric_column, \n",
    "                 value_vars=param_columns,\n",
    "                 var_name='parameters',\n",
    "                 value_name='parameter_value')\n",
    "    return df"
   ]
  },
  {
   "cell_type": "code",
   "execution_count": 25,
   "metadata": {},
   "outputs": [],
   "source": [
    "METRIC_COLUMN = 'ROC_AUC'\n",
    "PARAMETER_COLUMNS = ['lgbm__max_depth', 'lgbm__num_leaves', 'lgbm__min_child_samples']"
   ]
  },
  {
   "cell_type": "code",
   "execution_count": 28,
   "metadata": {},
   "outputs": [
    {
     "name": "stdout",
     "output_type": "stream",
     "text": [
      "  lgbm__max_depth         ...                     ROC_AUC\n",
      "0            20.0         ...          0.7578376974936794\n",
      "1            20.0         ...          0.7578376974936794\n",
      "2            20.0         ...          0.7578376974936794\n",
      "3            20.0         ...          0.7383150842338956\n",
      "4            -1.0         ...          0.7859497222152486\n",
      "\n",
      "[5 rows x 4 columns]\n"
     ]
    },
    {
     "data": {
      "application/vnd.vegalite.v2+json": {
       "$schema": "https://vega.github.io/schema/vega-lite/v2.6.0.json",
       "config": {
        "view": {
         "height": 300,
         "width": 400
        }
       },
       "data": {
        "name": "data-95659c5389aa304315a3f38e8a5e1770"
       },
       "datasets": {
        "data-95659c5389aa304315a3f38e8a5e1770": [
         {
          "index": 0,
          "lgbm__max_depth": 0.4,
          "value": 0.9166666666666666,
          "variable": "lgbm__num_leaves"
         },
         {
          "index": 1,
          "lgbm__max_depth": 0.4,
          "value": 0.9166666666666666,
          "variable": "lgbm__num_leaves"
         },
         {
          "index": 2,
          "lgbm__max_depth": 0.4,
          "value": 0.9166666666666666,
          "variable": "lgbm__num_leaves"
         },
         {
          "index": 3,
          "lgbm__max_depth": 0.4,
          "value": 0.9166666666666666,
          "variable": "lgbm__num_leaves"
         },
         {
          "index": 4,
          "lgbm__max_depth": 0,
          "value": 0.08333333333333333,
          "variable": "lgbm__num_leaves"
         },
         {
          "index": 5,
          "lgbm__max_depth": 0,
          "value": 0.08333333333333333,
          "variable": "lgbm__num_leaves"
         },
         {
          "index": 6,
          "lgbm__max_depth": 0,
          "value": 0.08333333333333333,
          "variable": "lgbm__num_leaves"
         },
         {
          "index": 7,
          "lgbm__max_depth": 0,
          "value": 0.08333333333333333,
          "variable": "lgbm__num_leaves"
         },
         {
          "index": 8,
          "lgbm__max_depth": 0,
          "value": 0.08333333333333333,
          "variable": "lgbm__num_leaves"
         },
         {
          "index": 9,
          "lgbm__max_depth": 0,
          "value": 0.08333333333333333,
          "variable": "lgbm__num_leaves"
         },
         {
          "index": 10,
          "lgbm__max_depth": 0,
          "value": 0.08333333333333333,
          "variable": "lgbm__num_leaves"
         },
         {
          "index": 11,
          "lgbm__max_depth": 0,
          "value": 0.08333333333333333,
          "variable": "lgbm__num_leaves"
         },
         {
          "index": 12,
          "lgbm__max_depth": 0,
          "value": 0.08333333333333333,
          "variable": "lgbm__num_leaves"
         },
         {
          "index": 13,
          "lgbm__max_depth": 0,
          "value": 0.08333333333333333,
          "variable": "lgbm__num_leaves"
         },
         {
          "index": 14,
          "lgbm__max_depth": 0,
          "value": 0.08333333333333333,
          "variable": "lgbm__num_leaves"
         },
         {
          "index": 15,
          "lgbm__max_depth": 0,
          "value": 0.08333333333333333,
          "variable": "lgbm__num_leaves"
         },
         {
          "index": 16,
          "lgbm__max_depth": 0,
          "value": 0.08333333333333333,
          "variable": "lgbm__num_leaves"
         },
         {
          "index": 17,
          "lgbm__max_depth": 0,
          "value": 0.08333333333333333,
          "variable": "lgbm__num_leaves"
         },
         {
          "index": 18,
          "lgbm__max_depth": 0,
          "value": 0.5,
          "variable": "lgbm__num_leaves"
         },
         {
          "index": 19,
          "lgbm__max_depth": 0,
          "value": 0.5,
          "variable": "lgbm__num_leaves"
         },
         {
          "index": 20,
          "lgbm__max_depth": 0,
          "value": 0.5,
          "variable": "lgbm__num_leaves"
         },
         {
          "index": 21,
          "lgbm__max_depth": 0,
          "value": 0.16666666666666666,
          "variable": "lgbm__num_leaves"
         },
         {
          "index": 22,
          "lgbm__max_depth": 0,
          "value": 0.5,
          "variable": "lgbm__num_leaves"
         },
         {
          "index": 23,
          "lgbm__max_depth": 0,
          "value": 0.16666666666666666,
          "variable": "lgbm__num_leaves"
         },
         {
          "index": 24,
          "lgbm__max_depth": 0,
          "value": 0.16666666666666666,
          "variable": "lgbm__num_leaves"
         },
         {
          "index": 25,
          "lgbm__max_depth": 0,
          "value": 0.5,
          "variable": "lgbm__num_leaves"
         },
         {
          "index": 26,
          "lgbm__max_depth": 0.6,
          "value": 0.25,
          "variable": "lgbm__num_leaves"
         },
         {
          "index": 27,
          "lgbm__max_depth": 0.6,
          "value": 0.9166666666666666,
          "variable": "lgbm__num_leaves"
         },
         {
          "index": 28,
          "lgbm__max_depth": 0.8,
          "value": 0.25,
          "variable": "lgbm__num_leaves"
         },
         {
          "index": 29,
          "lgbm__max_depth": 0.8,
          "value": 0.9166666666666666,
          "variable": "lgbm__num_leaves"
         },
         {
          "index": 30,
          "lgbm__max_depth": 0.8,
          "value": 0.08333333333333333,
          "variable": "lgbm__num_leaves"
         },
         {
          "index": 31,
          "lgbm__max_depth": 0.8,
          "value": 0.08333333333333333,
          "variable": "lgbm__num_leaves"
         },
         {
          "index": 32,
          "lgbm__max_depth": 1,
          "value": 0.25,
          "variable": "lgbm__num_leaves"
         },
         {
          "index": 33,
          "lgbm__max_depth": 1,
          "value": 0.08333333333333333,
          "variable": "lgbm__num_leaves"
         },
         {
          "index": 34,
          "lgbm__max_depth": 0.6,
          "value": 0,
          "variable": "lgbm__num_leaves"
         },
         {
          "index": 35,
          "lgbm__max_depth": 0.6,
          "value": 0,
          "variable": "lgbm__num_leaves"
         },
         {
          "index": 36,
          "lgbm__max_depth": 0.6,
          "value": 0,
          "variable": "lgbm__num_leaves"
         },
         {
          "index": 37,
          "lgbm__max_depth": 0.6,
          "value": 0.25,
          "variable": "lgbm__num_leaves"
         },
         {
          "index": 38,
          "lgbm__max_depth": 0.6,
          "value": 0.25,
          "variable": "lgbm__num_leaves"
         },
         {
          "index": 39,
          "lgbm__max_depth": 0.6,
          "value": 0.25,
          "variable": "lgbm__num_leaves"
         },
         {
          "index": 40,
          "lgbm__max_depth": 0.6,
          "value": 0.4166666666666667,
          "variable": "lgbm__num_leaves"
         },
         {
          "index": 41,
          "lgbm__max_depth": 0.6,
          "value": 0.4166666666666667,
          "variable": "lgbm__num_leaves"
         },
         {
          "index": 42,
          "lgbm__max_depth": 0.6,
          "value": 0.4166666666666667,
          "variable": "lgbm__num_leaves"
         },
         {
          "index": 43,
          "lgbm__max_depth": 0.6,
          "value": 0.9166666666666666,
          "variable": "lgbm__num_leaves"
         },
         {
          "index": 44,
          "lgbm__max_depth": 0.6,
          "value": 0.9166666666666666,
          "variable": "lgbm__num_leaves"
         },
         {
          "index": 45,
          "lgbm__max_depth": 0.6,
          "value": 0.9166666666666666,
          "variable": "lgbm__num_leaves"
         },
         {
          "index": 46,
          "lgbm__max_depth": 0.6,
          "value": 0.25,
          "variable": "lgbm__num_leaves"
         },
         {
          "index": 47,
          "lgbm__max_depth": 0.6,
          "value": 0.25,
          "variable": "lgbm__num_leaves"
         },
         {
          "index": 48,
          "lgbm__max_depth": 0.6,
          "value": 0.25,
          "variable": "lgbm__num_leaves"
         },
         {
          "index": 49,
          "lgbm__max_depth": 0.6,
          "value": 0.25,
          "variable": "lgbm__num_leaves"
         },
         {
          "index": 50,
          "lgbm__max_depth": 0.6,
          "value": 0.25,
          "variable": "lgbm__num_leaves"
         },
         {
          "index": 51,
          "lgbm__max_depth": 0.6,
          "value": 0.25,
          "variable": "lgbm__num_leaves"
         },
         {
          "index": 52,
          "lgbm__max_depth": 0.6,
          "value": 0.25,
          "variable": "lgbm__num_leaves"
         },
         {
          "index": 53,
          "lgbm__max_depth": 0.6,
          "value": 0.25,
          "variable": "lgbm__num_leaves"
         },
         {
          "index": 54,
          "lgbm__max_depth": 0.6,
          "value": 0.25,
          "variable": "lgbm__num_leaves"
         },
         {
          "index": 55,
          "lgbm__max_depth": 0.6,
          "value": 0.25,
          "variable": "lgbm__num_leaves"
         },
         {
          "index": 56,
          "lgbm__max_depth": 0.6,
          "value": 0.25,
          "variable": "lgbm__num_leaves"
         },
         {
          "index": 57,
          "lgbm__max_depth": 0.6,
          "value": 0.25,
          "variable": "lgbm__num_leaves"
         },
         {
          "index": 58,
          "lgbm__max_depth": 0.6,
          "value": 0.25,
          "variable": "lgbm__num_leaves"
         },
         {
          "index": 59,
          "lgbm__max_depth": 0.6,
          "value": 0.25,
          "variable": "lgbm__num_leaves"
         },
         {
          "index": 60,
          "lgbm__max_depth": 0.6,
          "value": 0.25,
          "variable": "lgbm__num_leaves"
         },
         {
          "index": 61,
          "lgbm__max_depth": 0.6,
          "value": 0.25,
          "variable": "lgbm__num_leaves"
         },
         {
          "index": 62,
          "lgbm__max_depth": 0.6,
          "value": 0.25,
          "variable": "lgbm__num_leaves"
         },
         {
          "index": 63,
          "lgbm__max_depth": 0.6,
          "value": 0.25,
          "variable": "lgbm__num_leaves"
         },
         {
          "index": 64,
          "lgbm__max_depth": 0.6,
          "value": 0.25,
          "variable": "lgbm__num_leaves"
         },
         {
          "index": 65,
          "lgbm__max_depth": 0.6,
          "value": 0.25,
          "variable": "lgbm__num_leaves"
         },
         {
          "index": 66,
          "lgbm__max_depth": 0.6,
          "value": 0.25,
          "variable": "lgbm__num_leaves"
         },
         {
          "index": 67,
          "lgbm__max_depth": 0.6,
          "value": 0.25,
          "variable": "lgbm__num_leaves"
         },
         {
          "index": 68,
          "lgbm__max_depth": 0.6,
          "value": 0.25,
          "variable": "lgbm__num_leaves"
         },
         {
          "index": 69,
          "lgbm__max_depth": 0.6,
          "value": 0.25,
          "variable": "lgbm__num_leaves"
         },
         {
          "index": 70,
          "lgbm__max_depth": 0.6,
          "value": 0.25,
          "variable": "lgbm__num_leaves"
         },
         {
          "index": 71,
          "lgbm__max_depth": 0.6,
          "value": 0.25,
          "variable": "lgbm__num_leaves"
         },
         {
          "index": 72,
          "lgbm__max_depth": 0.6,
          "value": 0.25,
          "variable": "lgbm__num_leaves"
         },
         {
          "index": 73,
          "lgbm__max_depth": 0.6,
          "value": 0.25,
          "variable": "lgbm__num_leaves"
         },
         {
          "index": 74,
          "lgbm__max_depth": 0.8,
          "value": 0.3333333333333333,
          "variable": "lgbm__num_leaves"
         },
         {
          "index": 75,
          "lgbm__max_depth": 0.6,
          "value": 0.25,
          "variable": "lgbm__num_leaves"
         },
         {
          "index": 76,
          "lgbm__max_depth": 1,
          "value": 0.25,
          "variable": "lgbm__num_leaves"
         },
         {
          "index": 77,
          "lgbm__max_depth": 0.6,
          "value": 0.3333333333333333,
          "variable": "lgbm__num_leaves"
         },
         {
          "index": 78,
          "lgbm__max_depth": 0.8,
          "value": 0.3333333333333333,
          "variable": "lgbm__num_leaves"
         },
         {
          "index": 79,
          "lgbm__max_depth": 1,
          "value": 0.3333333333333333,
          "variable": "lgbm__num_leaves"
         },
         {
          "index": 80,
          "lgbm__max_depth": 0.8,
          "value": 0.16666666666666666,
          "variable": "lgbm__num_leaves"
         },
         {
          "index": 81,
          "lgbm__max_depth": 0.8,
          "value": 0.25,
          "variable": "lgbm__num_leaves"
         },
         {
          "index": 82,
          "lgbm__max_depth": 0.6,
          "value": 0.16666666666666666,
          "variable": "lgbm__num_leaves"
         },
         {
          "index": 83,
          "lgbm__max_depth": 0.8,
          "value": 0.25,
          "variable": "lgbm__num_leaves"
         },
         {
          "index": 84,
          "lgbm__max_depth": 1,
          "value": 0.25,
          "variable": "lgbm__num_leaves"
         },
         {
          "index": 85,
          "lgbm__max_depth": 0.8,
          "value": 0.3333333333333333,
          "variable": "lgbm__num_leaves"
         },
         {
          "index": 86,
          "lgbm__max_depth": 0.2,
          "value": 0.3333333333333333,
          "variable": "lgbm__num_leaves"
         },
         {
          "index": 87,
          "lgbm__max_depth": 0.6,
          "value": 0.3333333333333333,
          "variable": "lgbm__num_leaves"
         },
         {
          "index": 88,
          "lgbm__max_depth": 0.2,
          "value": 0.3333333333333333,
          "variable": "lgbm__num_leaves"
         },
         {
          "index": 89,
          "lgbm__max_depth": 0.2,
          "value": 0.25,
          "variable": "lgbm__num_leaves"
         },
         {
          "index": 90,
          "lgbm__max_depth": 0.2,
          "value": 0.8333333333333334,
          "variable": "lgbm__num_leaves"
         },
         {
          "index": 91,
          "lgbm__max_depth": 0.2,
          "value": 0,
          "variable": "lgbm__num_leaves"
         },
         {
          "index": 92,
          "lgbm__max_depth": 0.2,
          "value": 0.16666666666666666,
          "variable": "lgbm__num_leaves"
         },
         {
          "index": 93,
          "lgbm__max_depth": 0.2,
          "value": 0.8333333333333334,
          "variable": "lgbm__num_leaves"
         },
         {
          "index": 94,
          "lgbm__max_depth": 0.2,
          "value": 0.8333333333333334,
          "variable": "lgbm__num_leaves"
         },
         {
          "index": 95,
          "lgbm__max_depth": 0.2,
          "value": 0.8333333333333334,
          "variable": "lgbm__num_leaves"
         },
         {
          "index": 96,
          "lgbm__max_depth": 0.2,
          "value": 0.8333333333333334,
          "variable": "lgbm__num_leaves"
         },
         {
          "index": 97,
          "lgbm__max_depth": 0,
          "value": 0.5,
          "variable": "lgbm__num_leaves"
         },
         {
          "index": 98,
          "lgbm__max_depth": 0,
          "value": 0.4166666666666667,
          "variable": "lgbm__num_leaves"
         },
         {
          "index": 99,
          "lgbm__max_depth": 0,
          "value": 0.4166666666666667,
          "variable": "lgbm__num_leaves"
         },
         {
          "index": 100,
          "lgbm__max_depth": 0,
          "value": 0.4166666666666667,
          "variable": "lgbm__num_leaves"
         },
         {
          "index": 101,
          "lgbm__max_depth": 0,
          "value": 0.5,
          "variable": "lgbm__num_leaves"
         },
         {
          "index": 102,
          "lgbm__max_depth": 0,
          "value": 0.5,
          "variable": "lgbm__num_leaves"
         },
         {
          "index": 103,
          "lgbm__max_depth": 0,
          "value": 0.5,
          "variable": "lgbm__num_leaves"
         },
         {
          "index": 104,
          "lgbm__max_depth": 0,
          "value": 0.6666666666666666,
          "variable": "lgbm__num_leaves"
         },
         {
          "index": 105,
          "lgbm__max_depth": 0,
          "value": 0.6666666666666666,
          "variable": "lgbm__num_leaves"
         },
         {
          "index": 106,
          "lgbm__max_depth": 0,
          "value": 0.6666666666666666,
          "variable": "lgbm__num_leaves"
         },
         {
          "index": 107,
          "lgbm__max_depth": 0,
          "value": 0.4166666666666667,
          "variable": "lgbm__num_leaves"
         },
         {
          "index": 108,
          "lgbm__max_depth": 0,
          "value": 0.4166666666666667,
          "variable": "lgbm__num_leaves"
         },
         {
          "index": 109,
          "lgbm__max_depth": 0,
          "value": 0.4166666666666667,
          "variable": "lgbm__num_leaves"
         },
         {
          "index": 110,
          "lgbm__max_depth": 0,
          "value": 0.5,
          "variable": "lgbm__num_leaves"
         },
         {
          "index": 111,
          "lgbm__max_depth": 0,
          "value": 0.5,
          "variable": "lgbm__num_leaves"
         },
         {
          "index": 112,
          "lgbm__max_depth": 0,
          "value": 0.5,
          "variable": "lgbm__num_leaves"
         },
         {
          "index": 113,
          "lgbm__max_depth": 0,
          "value": 0.6666666666666666,
          "variable": "lgbm__num_leaves"
         },
         {
          "index": 114,
          "lgbm__max_depth": 0,
          "value": 0.6666666666666666,
          "variable": "lgbm__num_leaves"
         },
         {
          "index": 115,
          "lgbm__max_depth": 0,
          "value": 0.6666666666666666,
          "variable": "lgbm__num_leaves"
         },
         {
          "index": 116,
          "lgbm__max_depth": 0.2,
          "value": 0.8333333333333334,
          "variable": "lgbm__num_leaves"
         },
         {
          "index": 117,
          "lgbm__max_depth": 0.2,
          "value": 0.8333333333333334,
          "variable": "lgbm__num_leaves"
         },
         {
          "index": 118,
          "lgbm__max_depth": 0.2,
          "value": 0.8333333333333334,
          "variable": "lgbm__num_leaves"
         },
         {
          "index": 119,
          "lgbm__max_depth": 0.2,
          "value": 0.8333333333333334,
          "variable": "lgbm__num_leaves"
         },
         {
          "index": 120,
          "lgbm__max_depth": 0.2,
          "value": 0.8333333333333334,
          "variable": "lgbm__num_leaves"
         },
         {
          "index": 121,
          "lgbm__max_depth": 0.2,
          "value": 0.8333333333333334,
          "variable": "lgbm__num_leaves"
         },
         {
          "index": 122,
          "lgbm__max_depth": 0.2,
          "value": 0.8333333333333334,
          "variable": "lgbm__num_leaves"
         },
         {
          "index": 123,
          "lgbm__max_depth": 0.2,
          "value": 0.8333333333333334,
          "variable": "lgbm__num_leaves"
         },
         {
          "index": 124,
          "lgbm__max_depth": 0.2,
          "value": 0.8333333333333334,
          "variable": "lgbm__num_leaves"
         },
         {
          "index": 125,
          "lgbm__max_depth": 0.2,
          "value": 0.8333333333333334,
          "variable": "lgbm__num_leaves"
         },
         {
          "index": 126,
          "lgbm__max_depth": 0.2,
          "value": 0.8333333333333334,
          "variable": "lgbm__num_leaves"
         },
         {
          "index": 127,
          "lgbm__max_depth": 0.2,
          "value": 0.8333333333333334,
          "variable": "lgbm__num_leaves"
         },
         {
          "index": 128,
          "lgbm__max_depth": 0.2,
          "value": 0.8333333333333334,
          "variable": "lgbm__num_leaves"
         },
         {
          "index": 129,
          "lgbm__max_depth": 0.2,
          "value": 0.8333333333333334,
          "variable": "lgbm__num_leaves"
         },
         {
          "index": 130,
          "lgbm__max_depth": 0.2,
          "value": 0.8333333333333334,
          "variable": "lgbm__num_leaves"
         },
         {
          "index": 131,
          "lgbm__max_depth": 0.2,
          "value": 0.8333333333333334,
          "variable": "lgbm__num_leaves"
         },
         {
          "index": 132,
          "lgbm__max_depth": 0.2,
          "value": 0.8333333333333334,
          "variable": "lgbm__num_leaves"
         },
         {
          "index": 133,
          "lgbm__max_depth": 0.2,
          "value": 0.8333333333333334,
          "variable": "lgbm__num_leaves"
         },
         {
          "index": 134,
          "lgbm__max_depth": 0.2,
          "value": 0.8333333333333334,
          "variable": "lgbm__num_leaves"
         },
         {
          "index": 135,
          "lgbm__max_depth": 0.2,
          "value": 0.8333333333333334,
          "variable": "lgbm__num_leaves"
         },
         {
          "index": 136,
          "lgbm__max_depth": 0.2,
          "value": 0.8333333333333334,
          "variable": "lgbm__num_leaves"
         },
         {
          "index": 137,
          "lgbm__max_depth": 0.2,
          "value": 0.8333333333333334,
          "variable": "lgbm__num_leaves"
         },
         {
          "index": 138,
          "lgbm__max_depth": 0.2,
          "value": 0.8333333333333334,
          "variable": "lgbm__num_leaves"
         },
         {
          "index": 139,
          "lgbm__max_depth": 0.2,
          "value": 0.8333333333333334,
          "variable": "lgbm__num_leaves"
         },
         {
          "index": 140,
          "lgbm__max_depth": 0.2,
          "value": 0.8333333333333334,
          "variable": "lgbm__num_leaves"
         },
         {
          "index": 141,
          "lgbm__max_depth": 0.2,
          "value": 0.8333333333333334,
          "variable": "lgbm__num_leaves"
         },
         {
          "index": 142,
          "lgbm__max_depth": 0.2,
          "value": 0.8333333333333334,
          "variable": "lgbm__num_leaves"
         },
         {
          "index": 143,
          "lgbm__max_depth": 0.2,
          "value": 0.8333333333333334,
          "variable": "lgbm__num_leaves"
         },
         {
          "index": 144,
          "lgbm__max_depth": 0.2,
          "value": 0.8333333333333334,
          "variable": "lgbm__num_leaves"
         },
         {
          "index": 145,
          "lgbm__max_depth": 0.2,
          "value": 0.8333333333333334,
          "variable": "lgbm__num_leaves"
         },
         {
          "index": 146,
          "lgbm__max_depth": 0.2,
          "value": 0.8333333333333334,
          "variable": "lgbm__num_leaves"
         },
         {
          "index": 147,
          "lgbm__max_depth": 0.2,
          "value": 0.8333333333333334,
          "variable": "lgbm__num_leaves"
         },
         {
          "index": 148,
          "lgbm__max_depth": 0.2,
          "value": 0.8333333333333334,
          "variable": "lgbm__num_leaves"
         },
         {
          "index": 149,
          "lgbm__max_depth": 0.2,
          "value": 0.8333333333333334,
          "variable": "lgbm__num_leaves"
         },
         {
          "index": 150,
          "lgbm__max_depth": 0.2,
          "value": 0.8333333333333334,
          "variable": "lgbm__num_leaves"
         },
         {
          "index": 151,
          "lgbm__max_depth": 0.2,
          "value": 0.8333333333333334,
          "variable": "lgbm__num_leaves"
         },
         {
          "index": 152,
          "lgbm__max_depth": 0.2,
          "value": 0.8333333333333334,
          "variable": "lgbm__num_leaves"
         },
         {
          "index": 153,
          "lgbm__max_depth": 0.2,
          "value": 0.8333333333333334,
          "variable": "lgbm__num_leaves"
         },
         {
          "index": 154,
          "lgbm__max_depth": 0.2,
          "value": 0.8333333333333334,
          "variable": "lgbm__num_leaves"
         },
         {
          "index": 155,
          "lgbm__max_depth": 0.2,
          "value": 0.8333333333333334,
          "variable": "lgbm__num_leaves"
         },
         {
          "index": 156,
          "lgbm__max_depth": 0.2,
          "value": 0.8333333333333334,
          "variable": "lgbm__num_leaves"
         },
         {
          "index": 157,
          "lgbm__max_depth": 0.2,
          "value": 0.8333333333333334,
          "variable": "lgbm__num_leaves"
         },
         {
          "index": 158,
          "lgbm__max_depth": 0.2,
          "value": 0.8333333333333334,
          "variable": "lgbm__num_leaves"
         },
         {
          "index": 159,
          "lgbm__max_depth": 0.2,
          "value": 0.8333333333333334,
          "variable": "lgbm__num_leaves"
         },
         {
          "index": 160,
          "lgbm__max_depth": 0.2,
          "value": 0.8333333333333334,
          "variable": "lgbm__num_leaves"
         },
         {
          "index": 161,
          "lgbm__max_depth": 0.2,
          "value": 0.8333333333333334,
          "variable": "lgbm__num_leaves"
         },
         {
          "index": 162,
          "lgbm__max_depth": 0.2,
          "value": 0.8333333333333334,
          "variable": "lgbm__num_leaves"
         },
         {
          "index": 163,
          "lgbm__max_depth": 0.2,
          "value": 0.8333333333333334,
          "variable": "lgbm__num_leaves"
         },
         {
          "index": 164,
          "lgbm__max_depth": 0.2,
          "value": 0.8333333333333334,
          "variable": "lgbm__num_leaves"
         },
         {
          "index": 165,
          "lgbm__max_depth": 0.2,
          "value": 0.8333333333333334,
          "variable": "lgbm__num_leaves"
         },
         {
          "index": 166,
          "lgbm__max_depth": 0.2,
          "value": 0.8333333333333334,
          "variable": "lgbm__num_leaves"
         },
         {
          "index": 167,
          "lgbm__max_depth": 0.2,
          "value": 0.8333333333333334,
          "variable": "lgbm__num_leaves"
         },
         {
          "index": 168,
          "lgbm__max_depth": 0.2,
          "value": 0.8333333333333334,
          "variable": "lgbm__num_leaves"
         },
         {
          "index": 169,
          "lgbm__max_depth": 0.2,
          "value": 0.8333333333333334,
          "variable": "lgbm__num_leaves"
         },
         {
          "index": 170,
          "lgbm__max_depth": 0.2,
          "value": 0.8333333333333334,
          "variable": "lgbm__num_leaves"
         },
         {
          "index": 171,
          "lgbm__max_depth": 0.2,
          "value": 0.8333333333333334,
          "variable": "lgbm__num_leaves"
         },
         {
          "index": 172,
          "lgbm__max_depth": 0.2,
          "value": 0.8333333333333334,
          "variable": "lgbm__num_leaves"
         },
         {
          "index": 173,
          "lgbm__max_depth": 0,
          "value": 0.5,
          "variable": "lgbm__num_leaves"
         },
         {
          "index": 174,
          "lgbm__max_depth": 0,
          "value": 0.5,
          "variable": "lgbm__num_leaves"
         },
         {
          "index": 175,
          "lgbm__max_depth": 0,
          "value": 0.5,
          "variable": "lgbm__num_leaves"
         },
         {
          "index": 176,
          "lgbm__max_depth": 0,
          "value": 0.5,
          "variable": "lgbm__num_leaves"
         },
         {
          "index": 177,
          "lgbm__max_depth": 0,
          "value": 0.5,
          "variable": "lgbm__num_leaves"
         },
         {
          "index": 178,
          "lgbm__max_depth": 0,
          "value": 0.5,
          "variable": "lgbm__num_leaves"
         },
         {
          "index": 179,
          "lgbm__max_depth": 0,
          "value": 0.08333333333333333,
          "variable": "lgbm__num_leaves"
         },
         {
          "index": 180,
          "lgbm__max_depth": 0,
          "value": 0.08333333333333333,
          "variable": "lgbm__num_leaves"
         },
         {
          "index": 181,
          "lgbm__max_depth": 0,
          "value": 0.08333333333333333,
          "variable": "lgbm__num_leaves"
         },
         {
          "index": 182,
          "lgbm__max_depth": 0,
          "value": 0.08333333333333333,
          "variable": "lgbm__num_leaves"
         },
         {
          "index": 183,
          "lgbm__max_depth": 0,
          "value": 0.08333333333333333,
          "variable": "lgbm__num_leaves"
         },
         {
          "index": 184,
          "lgbm__max_depth": 0,
          "value": 0.08333333333333333,
          "variable": "lgbm__num_leaves"
         },
         {
          "index": 185,
          "lgbm__max_depth": 0,
          "value": 0.08333333333333333,
          "variable": "lgbm__num_leaves"
         },
         {
          "index": 186,
          "lgbm__max_depth": 0,
          "value": 0.08333333333333333,
          "variable": "lgbm__num_leaves"
         },
         {
          "index": 187,
          "lgbm__max_depth": 0,
          "value": 0.75,
          "variable": "lgbm__num_leaves"
         },
         {
          "index": 188,
          "lgbm__max_depth": 0.6,
          "value": 0.5833333333333334,
          "variable": "lgbm__num_leaves"
         },
         {
          "index": 189,
          "lgbm__max_depth": 0.6,
          "value": 0.5833333333333334,
          "variable": "lgbm__num_leaves"
         },
         {
          "index": 190,
          "lgbm__max_depth": 0.8,
          "value": 1,
          "variable": "lgbm__num_leaves"
         },
         {
          "index": 191,
          "lgbm__max_depth": 0.8,
          "value": 1,
          "variable": "lgbm__num_leaves"
         },
         {
          "index": 192,
          "lgbm__max_depth": 0.8,
          "value": 1,
          "variable": "lgbm__num_leaves"
         },
         {
          "index": 0,
          "lgbm__max_depth": 0.4,
          "value": 0.35714285714285715,
          "variable": "lgbm__min_child_samples"
         },
         {
          "index": 1,
          "lgbm__max_depth": 0.4,
          "value": 0.35714285714285715,
          "variable": "lgbm__min_child_samples"
         },
         {
          "index": 2,
          "lgbm__max_depth": 0.4,
          "value": 0.35714285714285715,
          "variable": "lgbm__min_child_samples"
         },
         {
          "index": 3,
          "lgbm__max_depth": 0.4,
          "value": 0.35714285714285715,
          "variable": "lgbm__min_child_samples"
         },
         {
          "index": 4,
          "lgbm__max_depth": 0,
          "value": 0.9285714285714286,
          "variable": "lgbm__min_child_samples"
         },
         {
          "index": 5,
          "lgbm__max_depth": 0,
          "value": 0.9285714285714286,
          "variable": "lgbm__min_child_samples"
         },
         {
          "index": 6,
          "lgbm__max_depth": 0,
          "value": 0.9285714285714286,
          "variable": "lgbm__min_child_samples"
         },
         {
          "index": 7,
          "lgbm__max_depth": 0,
          "value": 0.9285714285714286,
          "variable": "lgbm__min_child_samples"
         },
         {
          "index": 8,
          "lgbm__max_depth": 0,
          "value": 0.9285714285714286,
          "variable": "lgbm__min_child_samples"
         },
         {
          "index": 9,
          "lgbm__max_depth": 0,
          "value": 0.9285714285714286,
          "variable": "lgbm__min_child_samples"
         },
         {
          "index": 10,
          "lgbm__max_depth": 0,
          "value": 0.9285714285714286,
          "variable": "lgbm__min_child_samples"
         },
         {
          "index": 11,
          "lgbm__max_depth": 0,
          "value": 0.9285714285714286,
          "variable": "lgbm__min_child_samples"
         },
         {
          "index": 12,
          "lgbm__max_depth": 0,
          "value": 0.9285714285714286,
          "variable": "lgbm__min_child_samples"
         },
         {
          "index": 13,
          "lgbm__max_depth": 0,
          "value": 0.9285714285714286,
          "variable": "lgbm__min_child_samples"
         },
         {
          "index": 14,
          "lgbm__max_depth": 0,
          "value": 0.9285714285714286,
          "variable": "lgbm__min_child_samples"
         },
         {
          "index": 15,
          "lgbm__max_depth": 0,
          "value": 0.9285714285714286,
          "variable": "lgbm__min_child_samples"
         },
         {
          "index": 16,
          "lgbm__max_depth": 0,
          "value": 0.9285714285714286,
          "variable": "lgbm__min_child_samples"
         },
         {
          "index": 17,
          "lgbm__max_depth": 0,
          "value": 0.9285714285714286,
          "variable": "lgbm__min_child_samples"
         },
         {
          "index": 18,
          "lgbm__max_depth": 0,
          "value": 0.7857142857142857,
          "variable": "lgbm__min_child_samples"
         },
         {
          "index": 19,
          "lgbm__max_depth": 0,
          "value": 0.7857142857142857,
          "variable": "lgbm__min_child_samples"
         },
         {
          "index": 20,
          "lgbm__max_depth": 0,
          "value": 0.7857142857142857,
          "variable": "lgbm__min_child_samples"
         },
         {
          "index": 21,
          "lgbm__max_depth": 0,
          "value": 0.6428571428571429,
          "variable": "lgbm__min_child_samples"
         },
         {
          "index": 22,
          "lgbm__max_depth": 0,
          "value": 0.7857142857142857,
          "variable": "lgbm__min_child_samples"
         },
         {
          "index": 23,
          "lgbm__max_depth": 0,
          "value": 0.6428571428571429,
          "variable": "lgbm__min_child_samples"
         },
         {
          "index": 24,
          "lgbm__max_depth": 0,
          "value": 0.6428571428571429,
          "variable": "lgbm__min_child_samples"
         },
         {
          "index": 25,
          "lgbm__max_depth": 0,
          "value": 0.7857142857142857,
          "variable": "lgbm__min_child_samples"
         },
         {
          "index": 26,
          "lgbm__max_depth": 0.6,
          "value": 0.07142857142857142,
          "variable": "lgbm__min_child_samples"
         },
         {
          "index": 27,
          "lgbm__max_depth": 0.6,
          "value": 0.8571428571428571,
          "variable": "lgbm__min_child_samples"
         },
         {
          "index": 28,
          "lgbm__max_depth": 0.8,
          "value": 0.8571428571428571,
          "variable": "lgbm__min_child_samples"
         },
         {
          "index": 29,
          "lgbm__max_depth": 0.8,
          "value": 0.07142857142857142,
          "variable": "lgbm__min_child_samples"
         },
         {
          "index": 30,
          "lgbm__max_depth": 0.8,
          "value": 0.7857142857142857,
          "variable": "lgbm__min_child_samples"
         },
         {
          "index": 31,
          "lgbm__max_depth": 0.8,
          "value": 0.07142857142857142,
          "variable": "lgbm__min_child_samples"
         },
         {
          "index": 32,
          "lgbm__max_depth": 1,
          "value": 0.8571428571428571,
          "variable": "lgbm__min_child_samples"
         },
         {
          "index": 33,
          "lgbm__max_depth": 1,
          "value": 0.8571428571428571,
          "variable": "lgbm__min_child_samples"
         },
         {
          "index": 34,
          "lgbm__max_depth": 0.6,
          "value": 0.7857142857142857,
          "variable": "lgbm__min_child_samples"
         },
         {
          "index": 35,
          "lgbm__max_depth": 0.6,
          "value": 0.07142857142857142,
          "variable": "lgbm__min_child_samples"
         },
         {
          "index": 36,
          "lgbm__max_depth": 0.6,
          "value": 0.8571428571428571,
          "variable": "lgbm__min_child_samples"
         },
         {
          "index": 37,
          "lgbm__max_depth": 0.6,
          "value": 0.7857142857142857,
          "variable": "lgbm__min_child_samples"
         },
         {
          "index": 38,
          "lgbm__max_depth": 0.6,
          "value": 0.07142857142857142,
          "variable": "lgbm__min_child_samples"
         },
         {
          "index": 39,
          "lgbm__max_depth": 0.6,
          "value": 0.8571428571428571,
          "variable": "lgbm__min_child_samples"
         },
         {
          "index": 40,
          "lgbm__max_depth": 0.6,
          "value": 0.7857142857142857,
          "variable": "lgbm__min_child_samples"
         },
         {
          "index": 41,
          "lgbm__max_depth": 0.6,
          "value": 0.07142857142857142,
          "variable": "lgbm__min_child_samples"
         },
         {
          "index": 42,
          "lgbm__max_depth": 0.6,
          "value": 0.8571428571428571,
          "variable": "lgbm__min_child_samples"
         },
         {
          "index": 43,
          "lgbm__max_depth": 0.6,
          "value": 0.7857142857142857,
          "variable": "lgbm__min_child_samples"
         },
         {
          "index": 44,
          "lgbm__max_depth": 0.6,
          "value": 0.07142857142857142,
          "variable": "lgbm__min_child_samples"
         },
         {
          "index": 45,
          "lgbm__max_depth": 0.6,
          "value": 0.8571428571428571,
          "variable": "lgbm__min_child_samples"
         },
         {
          "index": 46,
          "lgbm__max_depth": 0.6,
          "value": 0.8571428571428571,
          "variable": "lgbm__min_child_samples"
         },
         {
          "index": 47,
          "lgbm__max_depth": 0.6,
          "value": 0.14285714285714285,
          "variable": "lgbm__min_child_samples"
         },
         {
          "index": 48,
          "lgbm__max_depth": 0.6,
          "value": 0.5,
          "variable": "lgbm__min_child_samples"
         },
         {
          "index": 49,
          "lgbm__max_depth": 0.6,
          "value": 0.14285714285714285,
          "variable": "lgbm__min_child_samples"
         },
         {
          "index": 50,
          "lgbm__max_depth": 0.6,
          "value": 0.14285714285714285,
          "variable": "lgbm__min_child_samples"
         },
         {
          "index": 51,
          "lgbm__max_depth": 0.6,
          "value": 0.14285714285714285,
          "variable": "lgbm__min_child_samples"
         },
         {
          "index": 52,
          "lgbm__max_depth": 0.6,
          "value": 0.14285714285714285,
          "variable": "lgbm__min_child_samples"
         },
         {
          "index": 53,
          "lgbm__max_depth": 0.6,
          "value": 0.14285714285714285,
          "variable": "lgbm__min_child_samples"
         },
         {
          "index": 54,
          "lgbm__max_depth": 0.6,
          "value": 0.14285714285714285,
          "variable": "lgbm__min_child_samples"
         },
         {
          "index": 55,
          "lgbm__max_depth": 0.6,
          "value": 0.14285714285714285,
          "variable": "lgbm__min_child_samples"
         },
         {
          "index": 56,
          "lgbm__max_depth": 0.6,
          "value": 0.14285714285714285,
          "variable": "lgbm__min_child_samples"
         },
         {
          "index": 57,
          "lgbm__max_depth": 0.6,
          "value": 0.14285714285714285,
          "variable": "lgbm__min_child_samples"
         },
         {
          "index": 58,
          "lgbm__max_depth": 0.6,
          "value": 0.14285714285714285,
          "variable": "lgbm__min_child_samples"
         },
         {
          "index": 59,
          "lgbm__max_depth": 0.6,
          "value": 0.14285714285714285,
          "variable": "lgbm__min_child_samples"
         },
         {
          "index": 60,
          "lgbm__max_depth": 0.6,
          "value": 0.14285714285714285,
          "variable": "lgbm__min_child_samples"
         },
         {
          "index": 61,
          "lgbm__max_depth": 0.6,
          "value": 0.14285714285714285,
          "variable": "lgbm__min_child_samples"
         },
         {
          "index": 62,
          "lgbm__max_depth": 0.6,
          "value": 0.14285714285714285,
          "variable": "lgbm__min_child_samples"
         },
         {
          "index": 63,
          "lgbm__max_depth": 0.6,
          "value": 0.14285714285714285,
          "variable": "lgbm__min_child_samples"
         },
         {
          "index": 64,
          "lgbm__max_depth": 0.6,
          "value": 0.14285714285714285,
          "variable": "lgbm__min_child_samples"
         },
         {
          "index": 65,
          "lgbm__max_depth": 0.6,
          "value": 0.14285714285714285,
          "variable": "lgbm__min_child_samples"
         },
         {
          "index": 66,
          "lgbm__max_depth": 0.6,
          "value": 0.14285714285714285,
          "variable": "lgbm__min_child_samples"
         },
         {
          "index": 67,
          "lgbm__max_depth": 0.6,
          "value": 0.14285714285714285,
          "variable": "lgbm__min_child_samples"
         },
         {
          "index": 68,
          "lgbm__max_depth": 0.6,
          "value": 0.14285714285714285,
          "variable": "lgbm__min_child_samples"
         },
         {
          "index": 69,
          "lgbm__max_depth": 0.6,
          "value": 0.14285714285714285,
          "variable": "lgbm__min_child_samples"
         },
         {
          "index": 70,
          "lgbm__max_depth": 0.6,
          "value": 0.14285714285714285,
          "variable": "lgbm__min_child_samples"
         },
         {
          "index": 71,
          "lgbm__max_depth": 0.6,
          "value": 0.14285714285714285,
          "variable": "lgbm__min_child_samples"
         },
         {
          "index": 72,
          "lgbm__max_depth": 0.6,
          "value": 0.14285714285714285,
          "variable": "lgbm__min_child_samples"
         },
         {
          "index": 73,
          "lgbm__max_depth": 0.6,
          "value": 0.14285714285714285,
          "variable": "lgbm__min_child_samples"
         },
         {
          "index": 74,
          "lgbm__max_depth": 0.8,
          "value": 0.14285714285714285,
          "variable": "lgbm__min_child_samples"
         },
         {
          "index": 75,
          "lgbm__max_depth": 0.6,
          "value": 0.42857142857142855,
          "variable": "lgbm__min_child_samples"
         },
         {
          "index": 76,
          "lgbm__max_depth": 1,
          "value": 0.42857142857142855,
          "variable": "lgbm__min_child_samples"
         },
         {
          "index": 77,
          "lgbm__max_depth": 0.6,
          "value": 0.42857142857142855,
          "variable": "lgbm__min_child_samples"
         },
         {
          "index": 78,
          "lgbm__max_depth": 0.8,
          "value": 0.42857142857142855,
          "variable": "lgbm__min_child_samples"
         },
         {
          "index": 79,
          "lgbm__max_depth": 1,
          "value": 0.42857142857142855,
          "variable": "lgbm__min_child_samples"
         },
         {
          "index": 80,
          "lgbm__max_depth": 0.8,
          "value": 0.8571428571428571,
          "variable": "lgbm__min_child_samples"
         },
         {
          "index": 81,
          "lgbm__max_depth": 0.8,
          "value": 0.8571428571428571,
          "variable": "lgbm__min_child_samples"
         },
         {
          "index": 82,
          "lgbm__max_depth": 0.6,
          "value": 0.14285714285714285,
          "variable": "lgbm__min_child_samples"
         },
         {
          "index": 83,
          "lgbm__max_depth": 0.8,
          "value": 0.14285714285714285,
          "variable": "lgbm__min_child_samples"
         },
         {
          "index": 84,
          "lgbm__max_depth": 1,
          "value": 0.14285714285714285,
          "variable": "lgbm__min_child_samples"
         },
         {
          "index": 85,
          "lgbm__max_depth": 0.8,
          "value": 0.14285714285714285,
          "variable": "lgbm__min_child_samples"
         },
         {
          "index": 86,
          "lgbm__max_depth": 0.2,
          "value": 0.42857142857142855,
          "variable": "lgbm__min_child_samples"
         },
         {
          "index": 87,
          "lgbm__max_depth": 0.6,
          "value": 0.42857142857142855,
          "variable": "lgbm__min_child_samples"
         },
         {
          "index": 88,
          "lgbm__max_depth": 0.2,
          "value": 0.8571428571428571,
          "variable": "lgbm__min_child_samples"
         },
         {
          "index": 89,
          "lgbm__max_depth": 0.2,
          "value": 0.14285714285714285,
          "variable": "lgbm__min_child_samples"
         },
         {
          "index": 90,
          "lgbm__max_depth": 0.2,
          "value": 0.42857142857142855,
          "variable": "lgbm__min_child_samples"
         },
         {
          "index": 91,
          "lgbm__max_depth": 0.2,
          "value": 0.42857142857142855,
          "variable": "lgbm__min_child_samples"
         },
         {
          "index": 92,
          "lgbm__max_depth": 0.2,
          "value": 0.42857142857142855,
          "variable": "lgbm__min_child_samples"
         },
         {
          "index": 93,
          "lgbm__max_depth": 0.2,
          "value": 0.42857142857142855,
          "variable": "lgbm__min_child_samples"
         },
         {
          "index": 94,
          "lgbm__max_depth": 0.2,
          "value": 0.42857142857142855,
          "variable": "lgbm__min_child_samples"
         },
         {
          "index": 95,
          "lgbm__max_depth": 0.2,
          "value": 0.42857142857142855,
          "variable": "lgbm__min_child_samples"
         },
         {
          "index": 96,
          "lgbm__max_depth": 0.2,
          "value": 0.42857142857142855,
          "variable": "lgbm__min_child_samples"
         },
         {
          "index": 97,
          "lgbm__max_depth": 0,
          "value": 0.7857142857142857,
          "variable": "lgbm__min_child_samples"
         },
         {
          "index": 98,
          "lgbm__max_depth": 0,
          "value": 0.5714285714285714,
          "variable": "lgbm__min_child_samples"
         },
         {
          "index": 99,
          "lgbm__max_depth": 0,
          "value": 0.7857142857142857,
          "variable": "lgbm__min_child_samples"
         },
         {
          "index": 100,
          "lgbm__max_depth": 0,
          "value": 1,
          "variable": "lgbm__min_child_samples"
         },
         {
          "index": 101,
          "lgbm__max_depth": 0,
          "value": 0.5714285714285714,
          "variable": "lgbm__min_child_samples"
         },
         {
          "index": 102,
          "lgbm__max_depth": 0,
          "value": 0.7857142857142857,
          "variable": "lgbm__min_child_samples"
         },
         {
          "index": 103,
          "lgbm__max_depth": 0,
          "value": 1,
          "variable": "lgbm__min_child_samples"
         },
         {
          "index": 104,
          "lgbm__max_depth": 0,
          "value": 0.5714285714285714,
          "variable": "lgbm__min_child_samples"
         },
         {
          "index": 105,
          "lgbm__max_depth": 0,
          "value": 0.7857142857142857,
          "variable": "lgbm__min_child_samples"
         },
         {
          "index": 106,
          "lgbm__max_depth": 0,
          "value": 1,
          "variable": "lgbm__min_child_samples"
         },
         {
          "index": 107,
          "lgbm__max_depth": 0,
          "value": 0.5714285714285714,
          "variable": "lgbm__min_child_samples"
         },
         {
          "index": 108,
          "lgbm__max_depth": 0,
          "value": 0.7857142857142857,
          "variable": "lgbm__min_child_samples"
         },
         {
          "index": 109,
          "lgbm__max_depth": 0,
          "value": 1,
          "variable": "lgbm__min_child_samples"
         },
         {
          "index": 110,
          "lgbm__max_depth": 0,
          "value": 0.5714285714285714,
          "variable": "lgbm__min_child_samples"
         },
         {
          "index": 111,
          "lgbm__max_depth": 0,
          "value": 0.7857142857142857,
          "variable": "lgbm__min_child_samples"
         },
         {
          "index": 112,
          "lgbm__max_depth": 0,
          "value": 1,
          "variable": "lgbm__min_child_samples"
         },
         {
          "index": 113,
          "lgbm__max_depth": 0,
          "value": 0.5714285714285714,
          "variable": "lgbm__min_child_samples"
         },
         {
          "index": 114,
          "lgbm__max_depth": 0,
          "value": 0.7857142857142857,
          "variable": "lgbm__min_child_samples"
         },
         {
          "index": 115,
          "lgbm__max_depth": 0,
          "value": 1,
          "variable": "lgbm__min_child_samples"
         },
         {
          "index": 116,
          "lgbm__max_depth": 0.2,
          "value": 0.42857142857142855,
          "variable": "lgbm__min_child_samples"
         },
         {
          "index": 117,
          "lgbm__max_depth": 0.2,
          "value": 0.42857142857142855,
          "variable": "lgbm__min_child_samples"
         },
         {
          "index": 118,
          "lgbm__max_depth": 0.2,
          "value": 0.42857142857142855,
          "variable": "lgbm__min_child_samples"
         },
         {
          "index": 119,
          "lgbm__max_depth": 0.2,
          "value": 0.42857142857142855,
          "variable": "lgbm__min_child_samples"
         },
         {
          "index": 120,
          "lgbm__max_depth": 0.2,
          "value": 0.42857142857142855,
          "variable": "lgbm__min_child_samples"
         },
         {
          "index": 121,
          "lgbm__max_depth": 0.2,
          "value": 0.42857142857142855,
          "variable": "lgbm__min_child_samples"
         },
         {
          "index": 122,
          "lgbm__max_depth": 0.2,
          "value": 0.42857142857142855,
          "variable": "lgbm__min_child_samples"
         },
         {
          "index": 123,
          "lgbm__max_depth": 0.2,
          "value": 0.42857142857142855,
          "variable": "lgbm__min_child_samples"
         },
         {
          "index": 124,
          "lgbm__max_depth": 0.2,
          "value": 0.42857142857142855,
          "variable": "lgbm__min_child_samples"
         },
         {
          "index": 125,
          "lgbm__max_depth": 0.2,
          "value": 0.42857142857142855,
          "variable": "lgbm__min_child_samples"
         },
         {
          "index": 126,
          "lgbm__max_depth": 0.2,
          "value": 0.42857142857142855,
          "variable": "lgbm__min_child_samples"
         },
         {
          "index": 127,
          "lgbm__max_depth": 0.2,
          "value": 0.42857142857142855,
          "variable": "lgbm__min_child_samples"
         },
         {
          "index": 128,
          "lgbm__max_depth": 0.2,
          "value": 0.42857142857142855,
          "variable": "lgbm__min_child_samples"
         },
         {
          "index": 129,
          "lgbm__max_depth": 0.2,
          "value": 0.42857142857142855,
          "variable": "lgbm__min_child_samples"
         },
         {
          "index": 130,
          "lgbm__max_depth": 0.2,
          "value": 0.42857142857142855,
          "variable": "lgbm__min_child_samples"
         },
         {
          "index": 131,
          "lgbm__max_depth": 0.2,
          "value": 0.42857142857142855,
          "variable": "lgbm__min_child_samples"
         },
         {
          "index": 132,
          "lgbm__max_depth": 0.2,
          "value": 0.42857142857142855,
          "variable": "lgbm__min_child_samples"
         },
         {
          "index": 133,
          "lgbm__max_depth": 0.2,
          "value": 0.42857142857142855,
          "variable": "lgbm__min_child_samples"
         },
         {
          "index": 134,
          "lgbm__max_depth": 0.2,
          "value": 0.42857142857142855,
          "variable": "lgbm__min_child_samples"
         },
         {
          "index": 135,
          "lgbm__max_depth": 0.2,
          "value": 0.42857142857142855,
          "variable": "lgbm__min_child_samples"
         },
         {
          "index": 136,
          "lgbm__max_depth": 0.2,
          "value": 0.42857142857142855,
          "variable": "lgbm__min_child_samples"
         },
         {
          "index": 137,
          "lgbm__max_depth": 0.2,
          "value": 0.42857142857142855,
          "variable": "lgbm__min_child_samples"
         },
         {
          "index": 138,
          "lgbm__max_depth": 0.2,
          "value": 0.42857142857142855,
          "variable": "lgbm__min_child_samples"
         },
         {
          "index": 139,
          "lgbm__max_depth": 0.2,
          "value": 0.42857142857142855,
          "variable": "lgbm__min_child_samples"
         },
         {
          "index": 140,
          "lgbm__max_depth": 0.2,
          "value": 0.42857142857142855,
          "variable": "lgbm__min_child_samples"
         },
         {
          "index": 141,
          "lgbm__max_depth": 0.2,
          "value": 0.42857142857142855,
          "variable": "lgbm__min_child_samples"
         },
         {
          "index": 142,
          "lgbm__max_depth": 0.2,
          "value": 0.42857142857142855,
          "variable": "lgbm__min_child_samples"
         },
         {
          "index": 143,
          "lgbm__max_depth": 0.2,
          "value": 0.42857142857142855,
          "variable": "lgbm__min_child_samples"
         },
         {
          "index": 144,
          "lgbm__max_depth": 0.2,
          "value": 0.42857142857142855,
          "variable": "lgbm__min_child_samples"
         },
         {
          "index": 145,
          "lgbm__max_depth": 0.2,
          "value": 0.42857142857142855,
          "variable": "lgbm__min_child_samples"
         },
         {
          "index": 146,
          "lgbm__max_depth": 0.2,
          "value": 0.42857142857142855,
          "variable": "lgbm__min_child_samples"
         },
         {
          "index": 147,
          "lgbm__max_depth": 0.2,
          "value": 0.42857142857142855,
          "variable": "lgbm__min_child_samples"
         },
         {
          "index": 148,
          "lgbm__max_depth": 0.2,
          "value": 0.42857142857142855,
          "variable": "lgbm__min_child_samples"
         },
         {
          "index": 149,
          "lgbm__max_depth": 0.2,
          "value": 0.42857142857142855,
          "variable": "lgbm__min_child_samples"
         },
         {
          "index": 150,
          "lgbm__max_depth": 0.2,
          "value": 0.42857142857142855,
          "variable": "lgbm__min_child_samples"
         },
         {
          "index": 151,
          "lgbm__max_depth": 0.2,
          "value": 0.42857142857142855,
          "variable": "lgbm__min_child_samples"
         },
         {
          "index": 152,
          "lgbm__max_depth": 0.2,
          "value": 0.42857142857142855,
          "variable": "lgbm__min_child_samples"
         },
         {
          "index": 153,
          "lgbm__max_depth": 0.2,
          "value": 0.42857142857142855,
          "variable": "lgbm__min_child_samples"
         },
         {
          "index": 154,
          "lgbm__max_depth": 0.2,
          "value": 0.42857142857142855,
          "variable": "lgbm__min_child_samples"
         },
         {
          "index": 155,
          "lgbm__max_depth": 0.2,
          "value": 0.42857142857142855,
          "variable": "lgbm__min_child_samples"
         },
         {
          "index": 156,
          "lgbm__max_depth": 0.2,
          "value": 0.42857142857142855,
          "variable": "lgbm__min_child_samples"
         },
         {
          "index": 157,
          "lgbm__max_depth": 0.2,
          "value": 0.42857142857142855,
          "variable": "lgbm__min_child_samples"
         },
         {
          "index": 158,
          "lgbm__max_depth": 0.2,
          "value": 0.42857142857142855,
          "variable": "lgbm__min_child_samples"
         },
         {
          "index": 159,
          "lgbm__max_depth": 0.2,
          "value": 0.42857142857142855,
          "variable": "lgbm__min_child_samples"
         },
         {
          "index": 160,
          "lgbm__max_depth": 0.2,
          "value": 0.42857142857142855,
          "variable": "lgbm__min_child_samples"
         },
         {
          "index": 161,
          "lgbm__max_depth": 0.2,
          "value": 0.42857142857142855,
          "variable": "lgbm__min_child_samples"
         },
         {
          "index": 162,
          "lgbm__max_depth": 0.2,
          "value": 0.42857142857142855,
          "variable": "lgbm__min_child_samples"
         },
         {
          "index": 163,
          "lgbm__max_depth": 0.2,
          "value": 0.42857142857142855,
          "variable": "lgbm__min_child_samples"
         },
         {
          "index": 164,
          "lgbm__max_depth": 0.2,
          "value": 0.42857142857142855,
          "variable": "lgbm__min_child_samples"
         },
         {
          "index": 165,
          "lgbm__max_depth": 0.2,
          "value": 0.42857142857142855,
          "variable": "lgbm__min_child_samples"
         },
         {
          "index": 166,
          "lgbm__max_depth": 0.2,
          "value": 0.42857142857142855,
          "variable": "lgbm__min_child_samples"
         },
         {
          "index": 167,
          "lgbm__max_depth": 0.2,
          "value": 0.42857142857142855,
          "variable": "lgbm__min_child_samples"
         },
         {
          "index": 168,
          "lgbm__max_depth": 0.2,
          "value": 0.42857142857142855,
          "variable": "lgbm__min_child_samples"
         },
         {
          "index": 169,
          "lgbm__max_depth": 0.2,
          "value": 0.42857142857142855,
          "variable": "lgbm__min_child_samples"
         },
         {
          "index": 170,
          "lgbm__max_depth": 0.2,
          "value": 0.42857142857142855,
          "variable": "lgbm__min_child_samples"
         },
         {
          "index": 171,
          "lgbm__max_depth": 0.2,
          "value": 0.42857142857142855,
          "variable": "lgbm__min_child_samples"
         },
         {
          "index": 172,
          "lgbm__max_depth": 0.2,
          "value": 0.42857142857142855,
          "variable": "lgbm__min_child_samples"
         },
         {
          "index": 173,
          "lgbm__max_depth": 0,
          "value": 0.7142857142857143,
          "variable": "lgbm__min_child_samples"
         },
         {
          "index": 174,
          "lgbm__max_depth": 0,
          "value": 1,
          "variable": "lgbm__min_child_samples"
         },
         {
          "index": 175,
          "lgbm__max_depth": 0,
          "value": 1,
          "variable": "lgbm__min_child_samples"
         },
         {
          "index": 176,
          "lgbm__max_depth": 0,
          "value": 1,
          "variable": "lgbm__min_child_samples"
         },
         {
          "index": 177,
          "lgbm__max_depth": 0,
          "value": 1,
          "variable": "lgbm__min_child_samples"
         },
         {
          "index": 178,
          "lgbm__max_depth": 0,
          "value": 1,
          "variable": "lgbm__min_child_samples"
         },
         {
          "index": 179,
          "lgbm__max_depth": 0,
          "value": 0,
          "variable": "lgbm__min_child_samples"
         },
         {
          "index": 180,
          "lgbm__max_depth": 0,
          "value": 0,
          "variable": "lgbm__min_child_samples"
         },
         {
          "index": 181,
          "lgbm__max_depth": 0,
          "value": 0,
          "variable": "lgbm__min_child_samples"
         },
         {
          "index": 182,
          "lgbm__max_depth": 0,
          "value": 0,
          "variable": "lgbm__min_child_samples"
         },
         {
          "index": 183,
          "lgbm__max_depth": 0,
          "value": 0,
          "variable": "lgbm__min_child_samples"
         },
         {
          "index": 184,
          "lgbm__max_depth": 0,
          "value": 0,
          "variable": "lgbm__min_child_samples"
         },
         {
          "index": 185,
          "lgbm__max_depth": 0,
          "value": 0,
          "variable": "lgbm__min_child_samples"
         },
         {
          "index": 186,
          "lgbm__max_depth": 0,
          "value": 0,
          "variable": "lgbm__min_child_samples"
         },
         {
          "index": 187,
          "lgbm__max_depth": 0,
          "value": 1,
          "variable": "lgbm__min_child_samples"
         },
         {
          "index": 188,
          "lgbm__max_depth": 0.6,
          "value": 0.2857142857142857,
          "variable": "lgbm__min_child_samples"
         },
         {
          "index": 189,
          "lgbm__max_depth": 0.6,
          "value": 0.2857142857142857,
          "variable": "lgbm__min_child_samples"
         },
         {
          "index": 190,
          "lgbm__max_depth": 0.8,
          "value": 0.21428571428571427,
          "variable": "lgbm__min_child_samples"
         },
         {
          "index": 191,
          "lgbm__max_depth": 0.8,
          "value": 0.21428571428571427,
          "variable": "lgbm__min_child_samples"
         },
         {
          "index": 192,
          "lgbm__max_depth": 0.8,
          "value": 0.21428571428571427,
          "variable": "lgbm__min_child_samples"
         },
         {
          "index": 0,
          "lgbm__max_depth": 0.4,
          "value": 0.04225352112676056,
          "variable": "ROC_AUC"
         },
         {
          "index": 1,
          "lgbm__max_depth": 0.4,
          "value": 0.04225352112676056,
          "variable": "ROC_AUC"
         },
         {
          "index": 2,
          "lgbm__max_depth": 0.4,
          "value": 0.04225352112676056,
          "variable": "ROC_AUC"
         },
         {
          "index": 3,
          "lgbm__max_depth": 0.4,
          "value": 0.02112676056338028,
          "variable": "ROC_AUC"
         },
         {
          "index": 4,
          "lgbm__max_depth": 0,
          "value": 0.09859154929577464,
          "variable": "ROC_AUC"
         },
         {
          "index": 5,
          "lgbm__max_depth": 0,
          "value": 0.1056338028169014,
          "variable": "ROC_AUC"
         },
         {
          "index": 6,
          "lgbm__max_depth": 0,
          "value": 0.07042253521126761,
          "variable": "ROC_AUC"
         },
         {
          "index": 7,
          "lgbm__max_depth": 0,
          "value": 0.07746478873239436,
          "variable": "ROC_AUC"
         },
         {
          "index": 8,
          "lgbm__max_depth": 0,
          "value": 0.08450704225352113,
          "variable": "ROC_AUC"
         },
         {
          "index": 9,
          "lgbm__max_depth": 0,
          "value": 0.09154929577464789,
          "variable": "ROC_AUC"
         },
         {
          "index": 10,
          "lgbm__max_depth": 0,
          "value": 0.11267605633802817,
          "variable": "ROC_AUC"
         },
         {
          "index": 11,
          "lgbm__max_depth": 0,
          "value": 0.11267605633802817,
          "variable": "ROC_AUC"
         },
         {
          "index": 12,
          "lgbm__max_depth": 0,
          "value": 0.11971830985915492,
          "variable": "ROC_AUC"
         },
         {
          "index": 13,
          "lgbm__max_depth": 0,
          "value": 0.14084507042253522,
          "variable": "ROC_AUC"
         },
         {
          "index": 14,
          "lgbm__max_depth": 0,
          "value": 0.14788732394366197,
          "variable": "ROC_AUC"
         },
         {
          "index": 15,
          "lgbm__max_depth": 0,
          "value": 0.13380281690140844,
          "variable": "ROC_AUC"
         },
         {
          "index": 16,
          "lgbm__max_depth": 0,
          "value": 0.15492957746478872,
          "variable": "ROC_AUC"
         },
         {
          "index": 17,
          "lgbm__max_depth": 0,
          "value": 0.1267605633802817,
          "variable": "ROC_AUC"
         },
         {
          "index": 18,
          "lgbm__max_depth": 0,
          "value": 0.1619718309859155,
          "variable": "ROC_AUC"
         },
         {
          "index": 19,
          "lgbm__max_depth": 0,
          "value": 0.16901408450704225,
          "variable": "ROC_AUC"
         },
         {
          "index": 20,
          "lgbm__max_depth": 0,
          "value": 0.16901408450704225,
          "variable": "ROC_AUC"
         },
         {
          "index": 21,
          "lgbm__max_depth": 0,
          "value": 0.18309859154929578,
          "variable": "ROC_AUC"
         },
         {
          "index": 22,
          "lgbm__max_depth": 0,
          "value": 0.06338028169014084,
          "variable": "ROC_AUC"
         },
         {
          "index": 23,
          "lgbm__max_depth": 0,
          "value": 0.056338028169014086,
          "variable": "ROC_AUC"
         },
         {
          "index": 24,
          "lgbm__max_depth": 0,
          "value": 0.19014084507042253,
          "variable": "ROC_AUC"
         },
         {
          "index": 25,
          "lgbm__max_depth": 0,
          "value": 0.20422535211267606,
          "variable": "ROC_AUC"
         },
         {
          "index": 26,
          "lgbm__max_depth": 0.6,
          "value": 0.3732394366197183,
          "variable": "ROC_AUC"
         },
         {
          "index": 27,
          "lgbm__max_depth": 0.6,
          "value": 0.3873239436619718,
          "variable": "ROC_AUC"
         },
         {
          "index": 28,
          "lgbm__max_depth": 0.8,
          "value": 0.2535211267605634,
          "variable": "ROC_AUC"
         },
         {
          "index": 29,
          "lgbm__max_depth": 0.8,
          "value": 0.24647887323943662,
          "variable": "ROC_AUC"
         },
         {
          "index": 30,
          "lgbm__max_depth": 0.8,
          "value": 0.2323943661971831,
          "variable": "ROC_AUC"
         },
         {
          "index": 31,
          "lgbm__max_depth": 0.8,
          "value": 0.24647887323943662,
          "variable": "ROC_AUC"
         },
         {
          "index": 32,
          "lgbm__max_depth": 1,
          "value": 0.21830985915492956,
          "variable": "ROC_AUC"
         },
         {
          "index": 33,
          "lgbm__max_depth": 1,
          "value": 0.2112676056338028,
          "variable": "ROC_AUC"
         },
         {
          "index": 34,
          "lgbm__max_depth": 0.6,
          "value": 0.352112676056338,
          "variable": "ROC_AUC"
         },
         {
          "index": 35,
          "lgbm__max_depth": 0.6,
          "value": 0.3732394366197183,
          "variable": "ROC_AUC"
         },
         {
          "index": 36,
          "lgbm__max_depth": 0.6,
          "value": 0.3873239436619718,
          "variable": "ROC_AUC"
         },
         {
          "index": 37,
          "lgbm__max_depth": 0.6,
          "value": 0.352112676056338,
          "variable": "ROC_AUC"
         },
         {
          "index": 38,
          "lgbm__max_depth": 0.6,
          "value": 0.3732394366197183,
          "variable": "ROC_AUC"
         },
         {
          "index": 39,
          "lgbm__max_depth": 0.6,
          "value": 0.3873239436619718,
          "variable": "ROC_AUC"
         },
         {
          "index": 40,
          "lgbm__max_depth": 0.6,
          "value": 0.352112676056338,
          "variable": "ROC_AUC"
         },
         {
          "index": 41,
          "lgbm__max_depth": 0.6,
          "value": 0.3732394366197183,
          "variable": "ROC_AUC"
         },
         {
          "index": 42,
          "lgbm__max_depth": 0.6,
          "value": 0.3873239436619718,
          "variable": "ROC_AUC"
         },
         {
          "index": 43,
          "lgbm__max_depth": 0.6,
          "value": 0.352112676056338,
          "variable": "ROC_AUC"
         },
         {
          "index": 44,
          "lgbm__max_depth": 0.6,
          "value": 0.3732394366197183,
          "variable": "ROC_AUC"
         },
         {
          "index": 45,
          "lgbm__max_depth": 0.6,
          "value": 0.3873239436619718,
          "variable": "ROC_AUC"
         },
         {
          "index": 46,
          "lgbm__max_depth": 0.6,
          "value": 0.3873239436619718,
          "variable": "ROC_AUC"
         },
         {
          "index": 47,
          "lgbm__max_depth": 0.6,
          "value": 0.4014084507042254,
          "variable": "ROC_AUC"
         },
         {
          "index": 48,
          "lgbm__max_depth": 0.6,
          "value": 0.38028169014084506,
          "variable": "ROC_AUC"
         },
         {
          "index": 49,
          "lgbm__max_depth": 0.6,
          "value": 0.2605633802816901,
          "variable": "ROC_AUC"
         },
         {
          "index": 50,
          "lgbm__max_depth": 0.6,
          "value": 0.30985915492957744,
          "variable": "ROC_AUC"
         },
         {
          "index": 51,
          "lgbm__max_depth": 0.6,
          "value": 0.323943661971831,
          "variable": "ROC_AUC"
         },
         {
          "index": 52,
          "lgbm__max_depth": 0.6,
          "value": 0.4014084507042254,
          "variable": "ROC_AUC"
         },
         {
          "index": 53,
          "lgbm__max_depth": 0.6,
          "value": 0.4014084507042254,
          "variable": "ROC_AUC"
         },
         {
          "index": 54,
          "lgbm__max_depth": 0.6,
          "value": 0.39436619718309857,
          "variable": "ROC_AUC"
         },
         {
          "index": 55,
          "lgbm__max_depth": 0.6,
          "value": 0.3591549295774648,
          "variable": "ROC_AUC"
         },
         {
          "index": 56,
          "lgbm__max_depth": 0.6,
          "value": 0.43661971830985913,
          "variable": "ROC_AUC"
         },
         {
          "index": 57,
          "lgbm__max_depth": 0.6,
          "value": 0.43661971830985913,
          "variable": "ROC_AUC"
         },
         {
          "index": 58,
          "lgbm__max_depth": 0.6,
          "value": 0.4295774647887324,
          "variable": "ROC_AUC"
         },
         {
          "index": 59,
          "lgbm__max_depth": 0.6,
          "value": 0.36619718309859156,
          "variable": "ROC_AUC"
         },
         {
          "index": 60,
          "lgbm__max_depth": 0.6,
          "value": 0.4154929577464789,
          "variable": "ROC_AUC"
         },
         {
          "index": 61,
          "lgbm__max_depth": 0.6,
          "value": 0.4225352112676056,
          "variable": "ROC_AUC"
         },
         {
          "index": 62,
          "lgbm__max_depth": 0.6,
          "value": 0.4084507042253521,
          "variable": "ROC_AUC"
         },
         {
          "index": 63,
          "lgbm__max_depth": 0.6,
          "value": 0.34507042253521125,
          "variable": "ROC_AUC"
         },
         {
          "index": 64,
          "lgbm__max_depth": 0.6,
          "value": 0.2887323943661972,
          "variable": "ROC_AUC"
         },
         {
          "index": 65,
          "lgbm__max_depth": 0.6,
          "value": 0.2887323943661972,
          "variable": "ROC_AUC"
         },
         {
          "index": 66,
          "lgbm__max_depth": 0.6,
          "value": 0.29577464788732394,
          "variable": "ROC_AUC"
         },
         {
          "index": 67,
          "lgbm__max_depth": 0.6,
          "value": 0.33098591549295775,
          "variable": "ROC_AUC"
         },
         {
          "index": 68,
          "lgbm__max_depth": 0.6,
          "value": 0.2746478873239437,
          "variable": "ROC_AUC"
         },
         {
          "index": 69,
          "lgbm__max_depth": 0.6,
          "value": 0.28169014084507044,
          "variable": "ROC_AUC"
         },
         {
          "index": 70,
          "lgbm__max_depth": 0.6,
          "value": 0.31690140845070425,
          "variable": "ROC_AUC"
         },
         {
          "index": 71,
          "lgbm__max_depth": 0.6,
          "value": 0.3380281690140845,
          "variable": "ROC_AUC"
         },
         {
          "index": 72,
          "lgbm__max_depth": 0.6,
          "value": 0.43661971830985913,
          "variable": "ROC_AUC"
         },
         {
          "index": 73,
          "lgbm__max_depth": 0.6,
          "value": 0.6901408450704225,
          "variable": "ROC_AUC"
         },
         {
          "index": 74,
          "lgbm__max_depth": 0.8,
          "value": 0.6197183098591549,
          "variable": "ROC_AUC"
         },
         {
          "index": 75,
          "lgbm__max_depth": 0.6,
          "value": 0.6830985915492958,
          "variable": "ROC_AUC"
         },
         {
          "index": 76,
          "lgbm__max_depth": 1,
          "value": 0.5845070422535211,
          "variable": "ROC_AUC"
         },
         {
          "index": 77,
          "lgbm__max_depth": 0.6,
          "value": 0.6830985915492958,
          "variable": "ROC_AUC"
         },
         {
          "index": 78,
          "lgbm__max_depth": 0.8,
          "value": 0.5985915492957746,
          "variable": "ROC_AUC"
         },
         {
          "index": 79,
          "lgbm__max_depth": 1,
          "value": 0.5704225352112676,
          "variable": "ROC_AUC"
         },
         {
          "index": 80,
          "lgbm__max_depth": 0.8,
          "value": 0.6126760563380281,
          "variable": "ROC_AUC"
         },
         {
          "index": 81,
          "lgbm__max_depth": 0.8,
          "value": 0.6056338028169014,
          "variable": "ROC_AUC"
         },
         {
          "index": 82,
          "lgbm__max_depth": 0.6,
          "value": 0.6338028169014085,
          "variable": "ROC_AUC"
         },
         {
          "index": 83,
          "lgbm__max_depth": 0.8,
          "value": 0.5915492957746479,
          "variable": "ROC_AUC"
         },
         {
          "index": 84,
          "lgbm__max_depth": 1,
          "value": 0.5774647887323944,
          "variable": "ROC_AUC"
         },
         {
          "index": 85,
          "lgbm__max_depth": 0.8,
          "value": 0.5915492957746479,
          "variable": "ROC_AUC"
         },
         {
          "index": 86,
          "lgbm__max_depth": 0.2,
          "value": 0.6549295774647887,
          "variable": "ROC_AUC"
         },
         {
          "index": 87,
          "lgbm__max_depth": 0.6,
          "value": 0.6408450704225352,
          "variable": "ROC_AUC"
         },
         {
          "index": 88,
          "lgbm__max_depth": 0.2,
          "value": 0.6619718309859155,
          "variable": "ROC_AUC"
         },
         {
          "index": 89,
          "lgbm__max_depth": 0.2,
          "value": 0.6690140845070423,
          "variable": "ROC_AUC"
         },
         {
          "index": 90,
          "lgbm__max_depth": 0.2,
          "value": 0.6549295774647887,
          "variable": "ROC_AUC"
         },
         {
          "index": 91,
          "lgbm__max_depth": 0.2,
          "value": 0.6549295774647887,
          "variable": "ROC_AUC"
         },
         {
          "index": 92,
          "lgbm__max_depth": 0.2,
          "value": 0.6549295774647887,
          "variable": "ROC_AUC"
         },
         {
          "index": 93,
          "lgbm__max_depth": 0.2,
          "value": 0.676056338028169,
          "variable": "ROC_AUC"
         },
         {
          "index": 94,
          "lgbm__max_depth": 0.2,
          "value": 0.6549295774647887,
          "variable": "ROC_AUC"
         },
         {
          "index": 95,
          "lgbm__max_depth": 0.2,
          "value": 0.647887323943662,
          "variable": "ROC_AUC"
         },
         {
          "index": 96,
          "lgbm__max_depth": 0.2,
          "value": 0.676056338028169,
          "variable": "ROC_AUC"
         },
         {
          "index": 97,
          "lgbm__max_depth": 0,
          "value": 0.176056338028169,
          "variable": "ROC_AUC"
         },
         {
          "index": 98,
          "lgbm__max_depth": 0,
          "value": 0.4647887323943662,
          "variable": "ROC_AUC"
         },
         {
          "index": 99,
          "lgbm__max_depth": 0,
          "value": 0.47183098591549294,
          "variable": "ROC_AUC"
         },
         {
          "index": 100,
          "lgbm__max_depth": 0,
          "value": 0.5492957746478874,
          "variable": "ROC_AUC"
         },
         {
          "index": 101,
          "lgbm__max_depth": 0,
          "value": 0.5563380281690141,
          "variable": "ROC_AUC"
         },
         {
          "index": 102,
          "lgbm__max_depth": 0,
          "value": 0.5,
          "variable": "ROC_AUC"
         },
         {
          "index": 103,
          "lgbm__max_depth": 0,
          "value": 0.5633802816901409,
          "variable": "ROC_AUC"
         },
         {
          "index": 104,
          "lgbm__max_depth": 0,
          "value": 0.5211267605633803,
          "variable": "ROC_AUC"
         },
         {
          "index": 105,
          "lgbm__max_depth": 0,
          "value": 0.5140845070422535,
          "variable": "ROC_AUC"
         },
         {
          "index": 106,
          "lgbm__max_depth": 0,
          "value": 0.5422535211267606,
          "variable": "ROC_AUC"
         },
         {
          "index": 107,
          "lgbm__max_depth": 0,
          "value": 0.45774647887323944,
          "variable": "ROC_AUC"
         },
         {
          "index": 108,
          "lgbm__max_depth": 0,
          "value": 0.2676056338028169,
          "variable": "ROC_AUC"
         },
         {
          "index": 109,
          "lgbm__max_depth": 0,
          "value": 0.4788732394366197,
          "variable": "ROC_AUC"
         },
         {
          "index": 110,
          "lgbm__max_depth": 0,
          "value": 0.49295774647887325,
          "variable": "ROC_AUC"
         },
         {
          "index": 111,
          "lgbm__max_depth": 0,
          "value": 0.23943661971830985,
          "variable": "ROC_AUC"
         },
         {
          "index": 112,
          "lgbm__max_depth": 0,
          "value": 0.528169014084507,
          "variable": "ROC_AUC"
         },
         {
          "index": 113,
          "lgbm__max_depth": 0,
          "value": 0.4859154929577465,
          "variable": "ROC_AUC"
         },
         {
          "index": 114,
          "lgbm__max_depth": 0,
          "value": 0.44366197183098594,
          "variable": "ROC_AUC"
         },
         {
          "index": 115,
          "lgbm__max_depth": 0,
          "value": 0.3028169014084507,
          "variable": "ROC_AUC"
         },
         {
          "index": 116,
          "lgbm__max_depth": 0.2,
          "value": 0,
          "variable": "ROC_AUC"
         },
         {
          "index": 117,
          "lgbm__max_depth": 0.2,
          "value": 0,
          "variable": "ROC_AUC"
         },
         {
          "index": 118,
          "lgbm__max_depth": 0.2,
          "value": 0.4507042253521127,
          "variable": "ROC_AUC"
         },
         {
          "index": 119,
          "lgbm__max_depth": 0.2,
          "value": 0.7253521126760564,
          "variable": "ROC_AUC"
         },
         {
          "index": 120,
          "lgbm__max_depth": 0.2,
          "value": 0.7183098591549296,
          "variable": "ROC_AUC"
         },
         {
          "index": 121,
          "lgbm__max_depth": 0.2,
          "value": 0.7394366197183099,
          "variable": "ROC_AUC"
         },
         {
          "index": 122,
          "lgbm__max_depth": 0.2,
          "value": 0.7746478873239436,
          "variable": "ROC_AUC"
         },
         {
          "index": 123,
          "lgbm__max_depth": 0.2,
          "value": 0.8028169014084507,
          "variable": "ROC_AUC"
         },
         {
          "index": 124,
          "lgbm__max_depth": 0.2,
          "value": 0.7394366197183099,
          "variable": "ROC_AUC"
         },
         {
          "index": 125,
          "lgbm__max_depth": 0.2,
          "value": 0.7746478873239436,
          "variable": "ROC_AUC"
         },
         {
          "index": 126,
          "lgbm__max_depth": 0.2,
          "value": 0.8028169014084507,
          "variable": "ROC_AUC"
         },
         {
          "index": 127,
          "lgbm__max_depth": 0.2,
          "value": 0.7112676056338029,
          "variable": "ROC_AUC"
         },
         {
          "index": 128,
          "lgbm__max_depth": 0.2,
          "value": 0.7253521126760564,
          "variable": "ROC_AUC"
         },
         {
          "index": 129,
          "lgbm__max_depth": 0.2,
          "value": 0.7887323943661971,
          "variable": "ROC_AUC"
         },
         {
          "index": 130,
          "lgbm__max_depth": 0.2,
          "value": 0.7112676056338029,
          "variable": "ROC_AUC"
         },
         {
          "index": 131,
          "lgbm__max_depth": 0.2,
          "value": 0.7253521126760564,
          "variable": "ROC_AUC"
         },
         {
          "index": 132,
          "lgbm__max_depth": 0.2,
          "value": 0.7887323943661971,
          "variable": "ROC_AUC"
         },
         {
          "index": 133,
          "lgbm__max_depth": 0.2,
          "value": 0.6267605633802817,
          "variable": "ROC_AUC"
         },
         {
          "index": 134,
          "lgbm__max_depth": 0.2,
          "value": 0.704225352112676,
          "variable": "ROC_AUC"
         },
         {
          "index": 135,
          "lgbm__max_depth": 0.2,
          "value": 0.7323943661971831,
          "variable": "ROC_AUC"
         },
         {
          "index": 136,
          "lgbm__max_depth": 0.2,
          "value": 0.6267605633802817,
          "variable": "ROC_AUC"
         },
         {
          "index": 137,
          "lgbm__max_depth": 0.2,
          "value": 0.704225352112676,
          "variable": "ROC_AUC"
         },
         {
          "index": 138,
          "lgbm__max_depth": 0.2,
          "value": 0.7323943661971831,
          "variable": "ROC_AUC"
         },
         {
          "index": 139,
          "lgbm__max_depth": 0.2,
          "value": 0.852112676056338,
          "variable": "ROC_AUC"
         },
         {
          "index": 140,
          "lgbm__max_depth": 0.2,
          "value": 0.7464788732394366,
          "variable": "ROC_AUC"
         },
         {
          "index": 141,
          "lgbm__max_depth": 0.2,
          "value": 0.19718309859154928,
          "variable": "ROC_AUC"
         },
         {
          "index": 142,
          "lgbm__max_depth": 0.2,
          "value": 0.8028169014084507,
          "variable": "ROC_AUC"
         },
         {
          "index": 143,
          "lgbm__max_depth": 0.2,
          "value": 0.7535211267605634,
          "variable": "ROC_AUC"
         },
         {
          "index": 144,
          "lgbm__max_depth": 0.2,
          "value": 0.5070422535211268,
          "variable": "ROC_AUC"
         },
         {
          "index": 145,
          "lgbm__max_depth": 0.2,
          "value": 0.795774647887324,
          "variable": "ROC_AUC"
         },
         {
          "index": 146,
          "lgbm__max_depth": 0.2,
          "value": 0.7676056338028169,
          "variable": "ROC_AUC"
         },
         {
          "index": 147,
          "lgbm__max_depth": 0.2,
          "value": 0.823943661971831,
          "variable": "ROC_AUC"
         },
         {
          "index": 148,
          "lgbm__max_depth": 0.2,
          "value": 0.852112676056338,
          "variable": "ROC_AUC"
         },
         {
          "index": 149,
          "lgbm__max_depth": 0.2,
          "value": 0.852112676056338,
          "variable": "ROC_AUC"
         },
         {
          "index": 150,
          "lgbm__max_depth": 0.2,
          "value": 0.7816901408450704,
          "variable": "ROC_AUC"
         },
         {
          "index": 151,
          "lgbm__max_depth": 0.2,
          "value": 0.22535211267605634,
          "variable": "ROC_AUC"
         },
         {
          "index": 152,
          "lgbm__max_depth": 0.2,
          "value": 0.852112676056338,
          "variable": "ROC_AUC"
         },
         {
          "index": 153,
          "lgbm__max_depth": 0.2,
          "value": 0.8309859154929577,
          "variable": "ROC_AUC"
         },
         {
          "index": 154,
          "lgbm__max_depth": 0.2,
          "value": 0.8591549295774648,
          "variable": "ROC_AUC"
         },
         {
          "index": 155,
          "lgbm__max_depth": 0.2,
          "value": 0.8098591549295775,
          "variable": "ROC_AUC"
         },
         {
          "index": 156,
          "lgbm__max_depth": 0.2,
          "value": 0.8450704225352113,
          "variable": "ROC_AUC"
         },
         {
          "index": 157,
          "lgbm__max_depth": 0.2,
          "value": 0.7605633802816901,
          "variable": "ROC_AUC"
         },
         {
          "index": 158,
          "lgbm__max_depth": 0.2,
          "value": 0.8380281690140845,
          "variable": "ROC_AUC"
         },
         {
          "index": 159,
          "lgbm__max_depth": 0.2,
          "value": 0.8591549295774648,
          "variable": "ROC_AUC"
         },
         {
          "index": 160,
          "lgbm__max_depth": 0.2,
          "value": 0.8661971830985915,
          "variable": "ROC_AUC"
         },
         {
          "index": 161,
          "lgbm__max_depth": 0.2,
          "value": 0.8943661971830986,
          "variable": "ROC_AUC"
         },
         {
          "index": 162,
          "lgbm__max_depth": 0.2,
          "value": 0.9014084507042254,
          "variable": "ROC_AUC"
         },
         {
          "index": 163,
          "lgbm__max_depth": 0.2,
          "value": 0.8802816901408451,
          "variable": "ROC_AUC"
         },
         {
          "index": 164,
          "lgbm__max_depth": 0.2,
          "value": 0.9084507042253521,
          "variable": "ROC_AUC"
         },
         {
          "index": 165,
          "lgbm__max_depth": 0.2,
          "value": 0.9154929577464789,
          "variable": "ROC_AUC"
         },
         {
          "index": 166,
          "lgbm__max_depth": 0.2,
          "value": 0.9154929577464789,
          "variable": "ROC_AUC"
         },
         {
          "index": 167,
          "lgbm__max_depth": 0.2,
          "value": 0.9154929577464789,
          "variable": "ROC_AUC"
         },
         {
          "index": 168,
          "lgbm__max_depth": 0.2,
          "value": 0.9225352112676056,
          "variable": "ROC_AUC"
         },
         {
          "index": 169,
          "lgbm__max_depth": 0.2,
          "value": 0.8169014084507042,
          "variable": "ROC_AUC"
         },
         {
          "index": 170,
          "lgbm__max_depth": 0.2,
          "value": 0.8873239436619719,
          "variable": "ROC_AUC"
         },
         {
          "index": 171,
          "lgbm__max_depth": 0.2,
          "value": 0.9366197183098591,
          "variable": "ROC_AUC"
         },
         {
          "index": 172,
          "lgbm__max_depth": 0.2,
          "value": 0.9366197183098591,
          "variable": "ROC_AUC"
         },
         {
          "index": 173,
          "lgbm__max_depth": 0,
          "value": 0.04929577464788732,
          "variable": "ROC_AUC"
         },
         {
          "index": 174,
          "lgbm__max_depth": 0,
          "value": 0.014084507042253521,
          "variable": "ROC_AUC"
         },
         {
          "index": 175,
          "lgbm__max_depth": 0,
          "value": 0.035211267605633804,
          "variable": "ROC_AUC"
         },
         {
          "index": 176,
          "lgbm__max_depth": 0,
          "value": 0.028169014084507043,
          "variable": "ROC_AUC"
         },
         {
          "index": 177,
          "lgbm__max_depth": 0,
          "value": 0.007042253521126761,
          "variable": "ROC_AUC"
         },
         {
          "index": 178,
          "lgbm__max_depth": 0,
          "value": 0.5352112676056338,
          "variable": "ROC_AUC"
         },
         {
          "index": 179,
          "lgbm__max_depth": 0,
          "value": 0.9436619718309859,
          "variable": "ROC_AUC"
         },
         {
          "index": 180,
          "lgbm__max_depth": 0,
          "value": 0.6971830985915493,
          "variable": "ROC_AUC"
         },
         {
          "index": 181,
          "lgbm__max_depth": 0,
          "value": 0.6971830985915493,
          "variable": "ROC_AUC"
         },
         {
          "index": 182,
          "lgbm__max_depth": 0,
          "value": 0.9647887323943662,
          "variable": "ROC_AUC"
         },
         {
          "index": 183,
          "lgbm__max_depth": 0,
          "value": 0.971830985915493,
          "variable": "ROC_AUC"
         },
         {
          "index": 184,
          "lgbm__max_depth": 0,
          "value": 0.9507042253521126,
          "variable": "ROC_AUC"
         },
         {
          "index": 185,
          "lgbm__max_depth": 0,
          "value": 0.9788732394366197,
          "variable": "ROC_AUC"
         },
         {
          "index": 186,
          "lgbm__max_depth": 0,
          "value": 0.9577464788732394,
          "variable": "ROC_AUC"
         },
         {
          "index": 187,
          "lgbm__max_depth": 0,
          "value": 0.9295774647887324,
          "variable": "ROC_AUC"
         },
         {
          "index": 188,
          "lgbm__max_depth": 0.6,
          "value": 0.9859154929577465,
          "variable": "ROC_AUC"
         },
         {
          "index": 189,
          "lgbm__max_depth": 0.6,
          "value": 0.9929577464788732,
          "variable": "ROC_AUC"
         },
         {
          "index": 190,
          "lgbm__max_depth": 0.8,
          "value": 1,
          "variable": "ROC_AUC"
         },
         {
          "index": 191,
          "lgbm__max_depth": 0.8,
          "value": 0.8732394366197183,
          "variable": "ROC_AUC"
         },
         {
          "index": 192,
          "lgbm__max_depth": 0.8,
          "value": 0.8732394366197183,
          "variable": "ROC_AUC"
         }
        ]
       },
       "encoding": {
        "color": {
         "field": "lgbm__max_depth",
         "type": "nominal"
        },
        "detail": {
         "field": "index",
         "type": "quantitative"
        },
        "opacity": {
         "value": 0.5
        },
        "x": {
         "field": "variable",
         "type": "nominal"
        },
        "y": {
         "field": "value",
         "type": "quantitative"
        }
       },
       "mark": "line"
      },
      "image/png": "[encoded data removed]",
      "text/plain": [
       "<VegaLite 2 object>\n",
       "\n",
       "If you see this message, it means the renderer has not been properly enabled\n",
       "for the frontend that you are using. For more information, see\n",
       "https://altair-viz.github.io/user_guide/troubleshooting.html\n"
      ]
     },
     "execution_count": 28,
     "metadata": {},
     "output_type": "execute_result"
    }
   ],
   "source": [
    "import numpy as np\n",
    "\n",
    "def parallel_coordinates(df, metric_column, parameter_columns):\n",
    "    df = df[parameter_columns+[metric_column]]\n",
    "    print(df.head())\n",
    "    df2 = df.copy()\n",
    "    labs = {}\n",
    "    for col, dfcol in df.items():\n",
    "        if dfcol.dtype == np.object:\n",
    "            dfcol = dfcol.astype('category')\n",
    "        if isinstance(dfcol.dtype, pd.core.dtypes.dtypes.CategoricalDtype):\n",
    "            y = dfcol.cat.codes\n",
    "            xlabs = dfcol.cat.categories.values\n",
    "            xnorm = np.linspace(0,1,len(dfcol.cat.categories))\n",
    "        else:\n",
    "            y = dfcol\n",
    "            nticks = 11\n",
    "            if dfcol.dtype == np.int64:\n",
    "                ndec = 0\n",
    "                nticks = min(nticks, len(dfcol.unique()))\n",
    "            else:\n",
    "                ndec = 1\n",
    "            if nticks < 11:\n",
    "                xorig = list(sorted(dfcol.unique()))\n",
    "                xnorm = [(x - y.min())/(y.max() - y.min()) for x in xorig] \n",
    "            else:\n",
    "                xnorm = np.linspace(0,1,nticks)\n",
    "                xorig = [(x*(y.max() - y.min())+y.min()) for x in xnorm] \n",
    "            xlabs = [f'{x:.{ndec}f}' for x in xorig]\n",
    "        labs[col] = pd.Series(xlabs, index=xnorm)\n",
    "        df2[col] = (y - y.min())/(y.max() - y.min())\n",
    "\n",
    "\n",
    "    vcolor = 'lgbm__max_depth'\n",
    "    color_spec = '' if df[vcolor].dtype in [np.float64,np.int64] else ':N'\n",
    "    df2melt = df2.reset_index().melt(['index',vcolor])\n",
    "    dfvcolor = df2melt[df2melt.variable==df2.columns[0]].copy()\n",
    "    dfvcolor['value'] = dfvcolor[vcolor]\n",
    "    dfvcolor['variable'] = vcolor\n",
    "    df2melt = pd.concat([df2melt,dfvcolor], ignore_index=True)\n",
    "\n",
    "    pcplot = alt.Chart(df2melt).mark_line().encode(\n",
    "        x='variable:N',\n",
    "        y='value:Q',\n",
    "        detail='index',\n",
    "        color=vcolor+color_spec,\n",
    "        opacity=alt.value(0.5)\n",
    "    )\n",
    "    for v in list(sorted(df2melt['variable'].unique())):\n",
    "        dflab = labs[v].reset_index()\n",
    "        if dflab.shape[0]>11:\n",
    "            continue\n",
    "        dflab.columns = ['value','lab']\n",
    "        dflab['variable'] = v\n",
    "        pcplot += alt.Chart(dflab).mark_text(\n",
    "            align='center',\n",
    "            baseline='middle',\n",
    "        ).encode(\n",
    "            x='variable',\n",
    "            y='value',\n",
    "            text='lab'\n",
    "        )\n",
    "    return pcplot\n",
    "                        \n",
    "parallel_coordinates(hyper_df, metric_column=METRIC_COLUMN, parameter_columns=PARAMETER_COLUMNS)"
   ]
  },
  {
   "cell_type": "code",
   "execution_count": null,
   "metadata": {},
   "outputs": [],
   "source": []
  }
 ],
 "metadata": {
  "kernelspec": {
   "display_name": "neptunecontrib py36",
   "language": "python",
   "name": "neptunecontrib_dev_py3"
  },
  "language_info": {
   "codemirror_mode": {
    "name": "ipython",
    "version": 3
   },
   "file_extension": ".py",
   "mimetype": "text/x-python",
   "name": "python",
   "nbconvert_exporter": "python",
   "pygments_lexer": "ipython3",
   "version": "3.6.8"
  }
 },
 "nbformat": 4,
 "nbformat_minor": 2
}
